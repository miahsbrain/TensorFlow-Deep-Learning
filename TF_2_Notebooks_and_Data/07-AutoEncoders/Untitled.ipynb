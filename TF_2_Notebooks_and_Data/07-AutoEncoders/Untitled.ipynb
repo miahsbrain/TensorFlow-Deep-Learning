{
 "cells": [
  {
   "cell_type": "code",
   "execution_count": 1,
   "id": "05a430f1-840c-481e-a0e3-8447d5cd87d8",
   "metadata": {},
   "outputs": [
    {
     "name": "stdout",
     "output_type": "stream",
     "text": [
      "WARNING:tensorflow:From C:\\Users\\Nagant\\anaconda3\\envs\\mytfenv\\lib\\site-packages\\keras\\src\\losses.py:2976: The name tf.losses.sparse_softmax_cross_entropy is deprecated. Please use tf.compat.v1.losses.sparse_softmax_cross_entropy instead.\n",
      "\n"
     ]
    }
   ],
   "source": [
    "import pandas as pd\n",
    "import seaborn as sns\n",
    "import matplotlib.pyplot as plt\n",
    "import tensorflow as tf"
   ]
  },
  {
   "cell_type": "code",
   "execution_count": 2,
   "id": "151c8fef-8412-435d-8795-c694e18987d9",
   "metadata": {},
   "outputs": [],
   "source": [
    "df = pd.read_csv('../DATA/UK_foods.csv',index_col='Unnamed: 0')"
   ]
  },
  {
   "cell_type": "code",
   "execution_count": 3,
   "id": "9daea82c-9a8b-43f5-8569-153f682e3eec",
   "metadata": {},
   "outputs": [],
   "source": [
    "models = tf.keras.models\n",
    "layers = tf.keras.layers"
   ]
  },
  {
   "cell_type": "code",
   "execution_count": 4,
   "id": "4341f159-fc8f-4c9b-92e2-01997573d5bb",
   "metadata": {},
   "outputs": [],
   "source": [
    "from sklearn.preprocessing import MinMaxScaler\n",
    "scaler = MinMaxScaler()\n",
    "scaled_df = scaler.fit_transform(df.transpose().values)"
   ]
  },
  {
   "cell_type": "code",
   "execution_count": 14,
   "id": "fc5a1431-ad47-4acc-87d0-63bbf8a5b181",
   "metadata": {},
   "outputs": [],
   "source": [
    "encoder = models.Sequential([\n",
    "    layers.Dense(8, input_shape=[17], activation='relu'),\n",
    "    layers.Dense(4, activation='relu'),\n",
    "    layers.Dense(2, activation='relu'),\n",
    "])"
   ]
  },
  {
   "cell_type": "code",
   "execution_count": 15,
   "id": "e94b7e00-942c-4031-8b8b-c789b425b3ff",
   "metadata": {},
   "outputs": [],
   "source": [
    "decoder = models.Sequential([\n",
    "    layers.Dense(4, input_shape=[2], activation='relu'),\n",
    "    layers.Dense(8, activation='relu'),\n",
    "    layers.Dense(17, activation='relu'),\n",
    "])"
   ]
  },
  {
   "cell_type": "code",
   "execution_count": 16,
   "id": "feccb06d-5816-4265-ba80-380a3a40b118",
   "metadata": {},
   "outputs": [],
   "source": [
    "autoencoder = models.Sequential([encoder, decoder])\n",
    "autoencoder.compile(loss='mse', optimizer='adam')"
   ]
  },
  {
   "cell_type": "code",
   "execution_count": 17,
   "id": "97989cf0-d361-4aa8-85a4-8ecfa4f2bdba",
   "metadata": {},
   "outputs": [
    {
     "name": "stdout",
     "output_type": "stream",
     "text": [
      "Epoch 1/15\n",
      "1/1 [==============================] - 1s 1s/step - loss: 0.4259\n",
      "Epoch 2/15\n",
      "1/1 [==============================] - 0s 10ms/step - loss: 0.4249\n",
      "Epoch 3/15\n",
      "1/1 [==============================] - 0s 13ms/step - loss: 0.4239\n",
      "Epoch 4/15\n",
      "1/1 [==============================] - 0s 20ms/step - loss: 0.4229\n",
      "Epoch 5/15\n",
      "1/1 [==============================] - 0s 27ms/step - loss: 0.4218\n",
      "Epoch 6/15\n",
      "1/1 [==============================] - 0s 13ms/step - loss: 0.4207\n",
      "Epoch 7/15\n",
      "1/1 [==============================] - 0s 16ms/step - loss: 0.4196\n",
      "Epoch 8/15\n",
      "1/1 [==============================] - 0s 15ms/step - loss: 0.4184\n",
      "Epoch 9/15\n",
      "1/1 [==============================] - 0s 14ms/step - loss: 0.4171\n",
      "Epoch 10/15\n",
      "1/1 [==============================] - 0s 17ms/step - loss: 0.4154\n",
      "Epoch 11/15\n",
      "1/1 [==============================] - 0s 21ms/step - loss: 0.4135\n",
      "Epoch 12/15\n",
      "1/1 [==============================] - 0s 28ms/step - loss: 0.4116\n",
      "Epoch 13/15\n",
      "1/1 [==============================] - 0s 28ms/step - loss: 0.4097\n",
      "Epoch 14/15\n",
      "1/1 [==============================] - 0s 26ms/step - loss: 0.4077\n",
      "Epoch 15/15\n",
      "1/1 [==============================] - 0s 19ms/step - loss: 0.4056\n"
     ]
    },
    {
     "data": {
      "text/plain": [
       "<keras.src.callbacks.History at 0x19ffcad2dd0>"
      ]
     },
     "execution_count": 17,
     "metadata": {},
     "output_type": "execute_result"
    }
   ],
   "source": [
    "autoencoder.fit(scaled_df, scaled_df, epochs=15)"
   ]
  },
  {
   "cell_type": "code",
   "execution_count": 18,
   "id": "8d2f9837-b054-42ce-a3f0-8eac9a500a08",
   "metadata": {},
   "outputs": [
    {
     "name": "stdout",
     "output_type": "stream",
     "text": [
      "1/1 [==============================] - 0s 78ms/step\n"
     ]
    }
   ],
   "source": [
    "embed_2dim = encoder.predict(scaled_df)"
   ]
  },
  {
   "cell_type": "code",
   "execution_count": 19,
   "id": "705c67c9-804c-4ba7-bc6a-f83c24d63c76",
   "metadata": {},
   "outputs": [
    {
     "data": {
      "text/plain": [
       "array([[0.        , 0.        ],\n",
       "       [0.        , 0.23840438],\n",
       "       [0.        , 0.39394596],\n",
       "       [0.        , 0.01102529]], dtype=float32)"
      ]
     },
     "execution_count": 19,
     "metadata": {},
     "output_type": "execute_result"
    }
   ],
   "source": [
    "embed_2dim"
   ]
  },
  {
   "cell_type": "code",
   "execution_count": 20,
   "id": "eac56b0b-4997-483b-8714-edef64c02f2b",
   "metadata": {},
   "outputs": [],
   "source": [
    "newdf = pd.DataFrame(embed_2dim, index=df.transpose().index, columns=['C1', 'C2'])"
   ]
  },
  {
   "cell_type": "code",
   "execution_count": 21,
   "id": "79ad903f-440b-418f-b490-a0501f8fc1e6",
   "metadata": {},
   "outputs": [],
   "source": [
    "newdf = newdf.reset_index()"
   ]
  },
  {
   "cell_type": "code",
   "execution_count": 22,
   "id": "1ca66e10-1a56-425d-98c4-aa7ba90de7b7",
   "metadata": {},
   "outputs": [
    {
     "data": {
      "text/plain": [
       "<AxesSubplot:xlabel='C1', ylabel='C2'>"
      ]
     },
     "execution_count": 22,
     "metadata": {},
     "output_type": "execute_result"
    },
    {
     "data": {
      "image/png": "[encoded data removed]",
      "text/plain": [
       "<Figure size 640x480 with 1 Axes>"
      ]
     },
     "metadata": {},
     "output_type": "display_data"
    }
   ],
   "source": [
    "sns.scatterplot(newdf, x='C1', y='C2', hue='index')"
   ]
  },
  {
   "cell_type": "code",
   "execution_count": null,
   "id": "d59cb4aa-7a9d-481e-a946-e9415b881da3",
   "metadata": {},
   "outputs": [],
   "source": []
  }
 ],
 "metadata": {
  "kernelspec": {
   "display_name": "Python 3 (ipykernel)",
   "language": "python",
   "name": "python3"
  },
  "language_info": {
   "codemirror_mode": {
    "name": "ipython",
    "version": 3
   },
   "file_extension": ".py",
   "mimetype": "text/x-python",
   "name": "python",
   "nbconvert_exporter": "python",
   "pygments_lexer": "ipython3",
   "version": "3.10.12"
  }
 },
 "nbformat": 4,
 "nbformat_minor": 5
}
