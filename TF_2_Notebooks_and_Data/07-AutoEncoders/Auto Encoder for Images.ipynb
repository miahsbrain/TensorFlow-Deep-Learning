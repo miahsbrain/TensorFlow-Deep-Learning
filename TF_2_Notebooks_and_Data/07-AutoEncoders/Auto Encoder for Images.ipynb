{
 "cells": [
  {
   "cell_type": "code",
   "execution_count": 1,
   "id": "8c7fb9cf-cc01-4c98-9319-2c89c1351695",
   "metadata": {},
   "outputs": [
    {
     "name": "stdout",
     "output_type": "stream",
     "text": [
      "WARNING:tensorflow:From C:\\Users\\Nagant\\anaconda3\\envs\\mytfenv\\lib\\site-packages\\keras\\src\\losses.py:2976: The name tf.losses.sparse_softmax_cross_entropy is deprecated. Please use tf.compat.v1.losses.sparse_softmax_cross_entropy instead.\n",
      "\n"
     ]
    }
   ],
   "source": [
    "import tensorflow as tf\n",
    "import pandas as pd\n",
    "import numpy as np\n",
    "import matplotlib.pyplot as plt"
   ]
  },
  {
   "cell_type": "code",
   "execution_count": 2,
   "id": "5fbe8ac7-b88e-4bc7-a996-8ee4231f94b5",
   "metadata": {},
   "outputs": [],
   "source": [
    "(X_train, y_train), (X_test, y_test) = tf.keras.datasets.mnist.load_data()"
   ]
  },
  {
   "cell_type": "code",
   "execution_count": 3,
   "id": "a56d4db7-1ce6-4728-8963-c7bb9a8ef50a",
   "metadata": {},
   "outputs": [
    {
     "data": {
      "text/plain": [
       "<matplotlib.image.AxesImage at 0x172b313e800>"
      ]
     },
     "execution_count": 3,
     "metadata": {},
     "output_type": "execute_result"
    },
    {
     "data": {
      "image/png": "[encoded data removed]",
      "text/plain": [
       "<Figure size 640x480 with 1 Axes>"
      ]
     },
     "metadata": {},
     "output_type": "display_data"
    }
   ],
   "source": [
    "plt.imshow(X_train[0])"
   ]
  },
  {
   "cell_type": "code",
   "execution_count": 4,
   "id": "7d149fce-3fd5-46c1-973d-fdb302b5bbd0",
   "metadata": {},
   "outputs": [],
   "source": [
    "X_train = X_train / 255"
   ]
  },
  {
   "cell_type": "code",
   "execution_count": 5,
   "id": "3fb2195b-3d83-49d0-b435-f248e9fd0707",
   "metadata": {},
   "outputs": [],
   "source": [
    "X_test = X_test / 255"
   ]
  },
  {
   "cell_type": "code",
   "execution_count": 11,
   "id": "31c15db3-cd32-4bee-8f46-b5342818925c",
   "metadata": {},
   "outputs": [],
   "source": [
    "layers = tf.keras.layers\n",
    "models = tf.keras.models\n",
    "optimizers = tf.keras.optimizers"
   ]
  },
  {
   "cell_type": "code",
   "execution_count": 12,
   "id": "f607cb9b-1b55-47ed-af37-0b389c374b11",
   "metadata": {},
   "outputs": [
    {
     "data": {
      "text/plain": [
       "784"
      ]
     },
     "execution_count": 12,
     "metadata": {},
     "output_type": "execute_result"
    }
   ],
   "source": [
    "28*28"
   ]
  },
  {
   "cell_type": "code",
   "execution_count": 13,
   "id": "51ce4e7d-68c5-4fc5-aab5-83537ca2a078",
   "metadata": {},
   "outputs": [
    {
     "data": {
      "text/plain": [
       "392.0"
      ]
     },
     "execution_count": 13,
     "metadata": {},
     "output_type": "execute_result"
    }
   ],
   "source": [
    "784 / 2"
   ]
  },
  {
   "cell_type": "code",
   "execution_count": 14,
   "id": "91c4e0e5-4306-4e1f-845b-aa5b0c7b0cb6",
   "metadata": {},
   "outputs": [
    {
     "data": {
      "text/plain": [
       "(28, 28)"
      ]
     },
     "execution_count": 14,
     "metadata": {},
     "output_type": "execute_result"
    }
   ],
   "source": [
    "X_train[0].shape"
   ]
  },
  {
   "cell_type": "code",
   "execution_count": 15,
   "id": "06613bb5-e3c5-4394-b777-7e4482b87455",
   "metadata": {},
   "outputs": [
    {
     "name": "stdout",
     "output_type": "stream",
     "text": [
      "WARNING:tensorflow:From C:\\Users\\Nagant\\anaconda3\\envs\\mytfenv\\lib\\site-packages\\keras\\src\\backend.py:873: The name tf.get_default_graph is deprecated. Please use tf.compat.v1.get_default_graph instead.\n",
      "\n"
     ]
    }
   ],
   "source": [
    "encoder = models.Sequential([\n",
    "    layers.Flatten(input_shape=(28,28)),\n",
    "    layers.Dense(units=400, activation='relu'),\n",
    "    layers.Dense(units=200, activation='relu'),\n",
    "    layers.Dense(units=100, activation='relu'),\n",
    "    layers.Dense(units=50, activation='relu'),\n",
    "    layers.Dense(units=25, activation='relu')\n",
    "])"
   ]
  },
  {
   "cell_type": "code",
   "execution_count": 20,
   "id": "c2067664-51f7-4f8a-82fe-6f63f50f6bfd",
   "metadata": {},
   "outputs": [],
   "source": [
    "decoder = models.Sequential([\n",
    "    layers.Dense(units=50, activation='relu', input_shape=[25]),\n",
    "    layers.Dense(units=100, activation='relu'),\n",
    "    layers.Dense(units=200, activation='relu'),\n",
    "    layers.Dense(units=400, activation='relu'),\n",
    "    layers.Dense(units=784, activation='sigmoid'),\n",
    "    layers.Reshape([28,28])\n",
    "])"
   ]
  },
  {
   "cell_type": "code",
   "execution_count": 21,
   "id": "91dda25f-c2e8-4884-b2ae-ef37d3fbee88",
   "metadata": {},
   "outputs": [],
   "source": [
    "autoencoder = models.Sequential([encoder, decoder])"
   ]
  },
  {
   "cell_type": "code",
   "execution_count": 22,
   "id": "bb6afa3a-8554-44ef-b7f7-3fd863aac748",
   "metadata": {},
   "outputs": [],
   "source": [
    "autoencoder.compile(loss='binary_crossentropy', optimizer=optimizers.SGD(learning_rate=1.5), metrics=['accuracy'])"
   ]
  },
  {
   "cell_type": "code",
   "execution_count": 23,
   "id": "2bbb4905-9b8a-45c9-9c71-4cf75c3de2c6",
   "metadata": {},
   "outputs": [
    {
     "name": "stdout",
     "output_type": "stream",
     "text": [
      "Epoch 1/5\n",
      "WARNING:tensorflow:From C:\\Users\\Nagant\\anaconda3\\envs\\mytfenv\\lib\\site-packages\\keras\\src\\utils\\tf_utils.py:492: The name tf.ragged.RaggedTensorValue is deprecated. Please use tf.compat.v1.ragged.RaggedTensorValue instead.\n",
      "\n",
      "WARNING:tensorflow:From C:\\Users\\Nagant\\anaconda3\\envs\\mytfenv\\lib\\site-packages\\keras\\src\\engine\\base_layer_utils.py:384: The name tf.executing_eagerly_outside_functions is deprecated. Please use tf.compat.v1.executing_eagerly_outside_functions instead.\n",
      "\n",
      "1875/1875 [==============================] - 18s 8ms/step - loss: 0.2504 - accuracy: 0.0903 - val_loss: 0.2125 - val_accuracy: 0.1323\n",
      "Epoch 2/5\n",
      "1875/1875 [==============================] - 15s 8ms/step - loss: 0.1879 - accuracy: 0.1596 - val_loss: 0.1657 - val_accuracy: 0.1875\n",
      "Epoch 3/5\n",
      "1875/1875 [==============================] - 21s 11ms/step - loss: 0.1602 - accuracy: 0.2002 - val_loss: 0.1541 - val_accuracy: 0.2100\n",
      "Epoch 4/5\n",
      "1875/1875 [==============================] - 18s 10ms/step - loss: 0.1488 - accuracy: 0.2139 - val_loss: 0.1494 - val_accuracy: 0.2125\n",
      "Epoch 5/5\n",
      "1875/1875 [==============================] - 17s 9ms/step - loss: 0.1404 - accuracy: 0.2232 - val_loss: 0.1342 - val_accuracy: 0.2244\n"
     ]
    },
    {
     "data": {
      "text/plain": [
       "<keras.src.callbacks.History at 0x172b3f7ca90>"
      ]
     },
     "execution_count": 23,
     "metadata": {},
     "output_type": "execute_result"
    }
   ],
   "source": [
    "autoencoder.fit(X_train, X_train, epochs=5, validation_data=(X_test, X_test))"
   ]
  },
  {
   "cell_type": "code",
   "execution_count": 25,
   "id": "74ab87bc-26e2-48c5-9639-2b8b73a7c4f1",
   "metadata": {},
   "outputs": [
    {
     "name": "stdout",
     "output_type": "stream",
     "text": [
      "1/1 [==============================] - 0s 227ms/step\n"
     ]
    }
   ],
   "source": [
    "passed_images = autoencoder.predict(X_test[:10])"
   ]
  },
  {
   "cell_type": "code",
   "execution_count": 33,
   "id": "df3a311b-c880-4ebc-a268-0a985de7e7bd",
   "metadata": {},
   "outputs": [
    {
     "name": "stdout",
     "output_type": "stream",
     "text": [
      "Original image\n"
     ]
    },
    {
     "data": {
      "image/png": "[encoded data removed]",
      "text/plain": [
       "<Figure size 640x480 with 1 Axes>"
      ]
     },
     "metadata": {},
     "output_type": "display_data"
    },
    {
     "name": "stdout",
     "output_type": "stream",
     "text": [
      "Coded image ( After )\n"
     ]
    },
    {
     "data": {
      "image/png": "[encoded data removed]",
      "text/plain": [
       "<Figure size 640x480 with 1 Axes>"
      ]
     },
     "metadata": {},
     "output_type": "display_data"
    }
   ],
   "source": [
    "n = 6\n",
    "print('Original image')\n",
    "plt.imshow(X_test[n])\n",
    "plt.show()\n",
    "print('Coded image ( After )')\n",
    "plt.imshow(passed_images[n])\n",
    "plt.show()"
   ]
  },
  {
   "cell_type": "code",
   "execution_count": 29,
   "id": "e52269e0-7c93-4af7-bc80-a231702fc2e9",
   "metadata": {},
   "outputs": [],
   "source": [
    "sample = layers.GaussianNoise(0.2)"
   ]
  },
  {
   "cell_type": "code",
   "execution_count": 31,
   "id": "d8b67304-e292-4f6d-bac8-59f4bf32ada0",
   "metadata": {},
   "outputs": [],
   "source": [
    "noisey = sample(X_test[:10], training=True)"
   ]
  },
  {
   "cell_type": "code",
   "execution_count": 34,
   "id": "b94b6671-f6e0-4936-8e1a-05532ace243e",
   "metadata": {},
   "outputs": [
    {
     "name": "stdout",
     "output_type": "stream",
     "text": [
      "Original\n"
     ]
    },
    {
     "data": {
      "image/png": "[encoded data removed]",
      "text/plain": [
       "<Figure size 640x480 with 1 Axes>"
      ]
     },
     "metadata": {},
     "output_type": "display_data"
    },
    {
     "name": "stdout",
     "output_type": "stream",
     "text": [
      "Noisy\n"
     ]
    },
    {
     "data": {
      "image/png": "[encoded data removed]",
      "text/plain": [
       "<Figure size 640x480 with 1 Axes>"
      ]
     },
     "metadata": {},
     "output_type": "display_data"
    }
   ],
   "source": [
    "n = 0\n",
    "print('Original')\n",
    "plt.imshow(X_test[n])\n",
    "plt.show()\n",
    "print('Noisy')\n",
    "plt.imshow(noisey[n])\n",
    "plt.show()"
   ]
  },
  {
   "cell_type": "code",
   "execution_count": 35,
   "id": "02a0c097-1c31-4522-858f-d3e644a589cb",
   "metadata": {},
   "outputs": [],
   "source": [
    "tf.random.set_seed(101)\n",
    "np.random.seed(101)\n",
    "\n",
    "encoder = models.Sequential([\n",
    "    layers.Flatten(input_shape=(28,28)),\n",
    "    layers.GaussianNoise(0.2),\n",
    "    layers.Dense(units=400, activation='relu'),\n",
    "    layers.Dense(units=200, activation='relu'),\n",
    "    layers.Dense(units=100, activation='relu'),\n",
    "    layers.Dense(units=50, activation='relu'),\n",
    "    layers.Dense(units=25, activation='relu')\n",
    "])"
   ]
  },
  {
   "cell_type": "code",
   "execution_count": 36,
   "id": "cc56ffbc-8543-4296-a6a4-3c207851b622",
   "metadata": {},
   "outputs": [],
   "source": [
    "decoder = models.Sequential([\n",
    "    layers.Dense(units=50, activation='relu', input_shape=[25]),\n",
    "    layers.Dense(units=100, activation='relu'),\n",
    "    layers.Dense(units=200, activation='relu'),\n",
    "    layers.Dense(units=400, activation='relu'),\n",
    "    layers.Dense(units=784, activation='sigmoid'),\n",
    "    layers.Reshape([28,28])\n",
    "])"
   ]
  },
  {
   "cell_type": "code",
   "execution_count": 37,
   "id": "3b9ec37f-ee1d-4f40-a2b1-f087fe2d1a45",
   "metadata": {},
   "outputs": [],
   "source": [
    "noise_remover = models.Sequential([encoder, decoder])"
   ]
  },
  {
   "cell_type": "code",
   "execution_count": 40,
   "id": "f6281ada-a0de-4b03-8561-c13f5aed2761",
   "metadata": {},
   "outputs": [],
   "source": [
    "noise_remover.compile(loss='binary_crossentropy', optimizer='adam', metrics=['accuracy'])"
   ]
  },
  {
   "cell_type": "code",
   "execution_count": 41,
   "id": "330c51b1-cc2b-45ce-b428-8414df927339",
   "metadata": {},
   "outputs": [
    {
     "name": "stdout",
     "output_type": "stream",
     "text": [
      "Epoch 1/8\n",
      "1875/1875 [==============================] - 36s 18ms/step - loss: 0.1749 - accuracy: 0.1787 - val_loss: 0.1354 - val_accuracy: 0.2307\n",
      "Epoch 2/8\n",
      "1875/1875 [==============================] - 38s 20ms/step - loss: 0.1290 - accuracy: 0.2354 - val_loss: 0.1199 - val_accuracy: 0.2418\n",
      "Epoch 3/8\n",
      "1875/1875 [==============================] - 34s 18ms/step - loss: 0.1202 - accuracy: 0.2501 - val_loss: 0.1138 - val_accuracy: 0.2540\n",
      "Epoch 4/8\n",
      "1875/1875 [==============================] - 33s 18ms/step - loss: 0.1156 - accuracy: 0.2582 - val_loss: 0.1101 - val_accuracy: 0.2693\n",
      "Epoch 5/8\n",
      "1875/1875 [==============================] - 33s 18ms/step - loss: 0.1130 - accuracy: 0.2655 - val_loss: 0.1083 - val_accuracy: 0.2692\n",
      "Epoch 6/8\n",
      "1875/1875 [==============================] - 42s 22ms/step - loss: 0.1107 - accuracy: 0.2677 - val_loss: 0.1074 - val_accuracy: 0.2729\n",
      "Epoch 7/8\n",
      "1875/1875 [==============================] - 48s 26ms/step - loss: 0.1085 - accuracy: 0.2721 - val_loss: 0.1038 - val_accuracy: 0.2750\n",
      "Epoch 8/8\n",
      "1875/1875 [==============================] - 48s 25ms/step - loss: 0.1068 - accuracy: 0.2749 - val_loss: 0.1030 - val_accuracy: 0.2780\n"
     ]
    },
    {
     "data": {
      "text/plain": [
       "<keras.src.callbacks.History at 0x172b5d5e9e0>"
      ]
     },
     "execution_count": 41,
     "metadata": {},
     "output_type": "execute_result"
    }
   ],
   "source": [
    "noise_remover.fit(X_train, X_train, epochs=8, validation_data=[X_test, X_test])"
   ]
  },
  {
   "cell_type": "code",
   "execution_count": 42,
   "id": "6670355f-27b0-4b7e-b998-cb1a25f9c3fa",
   "metadata": {},
   "outputs": [],
   "source": [
    "ten_noisy_images = sample(X_test[:10], training=True)"
   ]
  },
  {
   "cell_type": "code",
   "execution_count": 43,
   "id": "f4e2c06c-0789-4de6-84e8-9ed21cbfd56e",
   "metadata": {},
   "outputs": [],
   "source": [
    "denoised = noise_remover(ten_noisy_images)"
   ]
  },
  {
   "cell_type": "code",
   "execution_count": 60,
   "id": "4c10c9b5-4a04-424a-8830-51f7b1e4981b",
   "metadata": {},
   "outputs": [
    {
     "name": "stdout",
     "output_type": "stream",
     "text": [
      "ORIGINAL IMAGE\n"
     ]
    },
    {
     "data": {
      "image/png": "[encoded data removed]",
      "text/plain": [
       "<Figure size 640x480 with 1 Axes>"
      ]
     },
     "metadata": {},
     "output_type": "display_data"
    },
    {
     "name": "stdout",
     "output_type": "stream",
     "text": [
      "NOISE ADDED IMAGE\n"
     ]
    },
    {
     "data": {
      "image/png": "[encoded data removed]",
      "text/plain": [
       "<Figure size 640x480 with 1 Axes>"
      ]
     },
     "metadata": {},
     "output_type": "display_data"
    },
    {
     "name": "stdout",
     "output_type": "stream",
     "text": [
      "NOISE REMOVED IMAGE\n"
     ]
    },
    {
     "data": {
      "image/png": "[encoded data removed]",
      "text/plain": [
       "<Figure size 640x480 with 1 Axes>"
      ]
     },
     "metadata": {},
     "output_type": "display_data"
    }
   ],
   "source": [
    "n = 0\n",
    "print('ORIGINAL IMAGE')\n",
    "plt.imshow(X_test[n])\n",
    "plt.show()\n",
    "print('NOISE ADDED IMAGE')\n",
    "plt.imshow(ten_noisy_images[n])\n",
    "plt.show()\n",
    "print('NOISE REMOVED IMAGE')\n",
    "plt.imshow(denoised[n])\n",
    "plt.show()"
   ]
  },
  {
   "cell_type": "code",
   "execution_count": null,
   "id": "a3e68661-3cf1-4f65-b39c-ce570d8c067d",
   "metadata": {},
   "outputs": [],
   "source": []
  }
 ],
 "metadata": {
  "kernelspec": {
   "display_name": "Python 3 (ipykernel)",
   "language": "python",
   "name": "python3"
  },
  "language_info": {
   "codemirror_mode": {
    "name": "ipython",
    "version": 3
   },
   "file_extension": ".py",
   "mimetype": "text/x-python",
   "name": "python",
   "nbconvert_exporter": "python",
   "pygments_lexer": "ipython3",
   "version": "3.10.12"
  }
 },
 "nbformat": 4,
 "nbformat_minor": 5
}
