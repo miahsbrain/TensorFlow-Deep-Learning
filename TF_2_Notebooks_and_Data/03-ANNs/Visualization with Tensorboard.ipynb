{
 "cells": [
  {
   "cell_type": "code",
   "execution_count": 1,
   "id": "a4153731-f170-4fae-81bd-985877318fad",
   "metadata": {},
   "outputs": [
    {
     "name": "stdout",
     "output_type": "stream",
     "text": [
      "WARNING:tensorflow:From C:\\Users\\Nagant\\anaconda3\\envs\\mytfenv\\lib\\site-packages\\keras\\src\\losses.py:2976: The name tf.losses.sparse_softmax_cross_entropy is deprecated. Please use tf.compat.v1.losses.sparse_softmax_cross_entropy instead.\n",
      "\n"
     ]
    }
   ],
   "source": [
    "import pandas as pd\n",
    "import numpy as np\n",
    "import tensorflow as tf"
   ]
  },
  {
   "cell_type": "code",
   "execution_count": 2,
   "id": "c9a54831-522f-428e-9339-a43617178578",
   "metadata": {},
   "outputs": [],
   "source": [
    "df = pd.read_csv('cancer_classification.csv')"
   ]
  },
  {
   "cell_type": "code",
   "execution_count": 3,
   "id": "c3b23da7-9b91-4110-96e9-6af64d5f781a",
   "metadata": {},
   "outputs": [],
   "source": [
    "X = df.drop('benign_0__mal_1',axis=1).values\n",
    "y = df['benign_0__mal_1'].values"
   ]
  },
  {
   "cell_type": "code",
   "execution_count": 4,
   "id": "5b3cd835-bef1-412a-a0d9-961023bdc798",
   "metadata": {},
   "outputs": [],
   "source": [
    "from sklearn.model_selection import train_test_split"
   ]
  },
  {
   "cell_type": "code",
   "execution_count": 5,
   "id": "fcd09fd4-b993-4687-808a-d81ecd618b1b",
   "metadata": {},
   "outputs": [],
   "source": [
    "X_train, X_test, y_train, y_test = train_test_split(X, y, test_size=0.33, random_state=101)"
   ]
  },
  {
   "cell_type": "code",
   "execution_count": 6,
   "id": "c9082cae-e2cb-4d3a-a105-0506a78da01c",
   "metadata": {},
   "outputs": [],
   "source": [
    "from sklearn.preprocessing import MinMaxScaler"
   ]
  },
  {
   "cell_type": "code",
   "execution_count": 7,
   "id": "1aac32fc-d335-4421-9790-08efd6cd1b0d",
   "metadata": {},
   "outputs": [],
   "source": [
    "scaler = MinMaxScaler()\n",
    "X_train = scaler.fit_transform(X_train)\n",
    "X_test = scaler.transform(X_test)"
   ]
  },
  {
   "cell_type": "code",
   "execution_count": 8,
   "id": "b3770da7-7be1-47ae-9d14-caecd7080d88",
   "metadata": {},
   "outputs": [],
   "source": [
    "from tensorflow.keras.models import Sequential\n",
    "from tensorflow.keras.layers import Dense, Dropout\n",
    "from tensorflow.keras.callbacks import TensorBoard, EarlyStopping"
   ]
  },
  {
   "cell_type": "code",
   "execution_count": 9,
   "id": "f576e7c4-274a-439f-9fc6-a929bee657e4",
   "metadata": {},
   "outputs": [],
   "source": [
    "early_stopping = EarlyStopping(monitor='val_loss', mode='min', patience=25, verbose=1)"
   ]
  },
  {
   "cell_type": "code",
   "execution_count": 12,
   "id": "bc50c842-75d1-4ac3-a6b5-529b6d7c1cda",
   "metadata": {},
   "outputs": [
    {
     "name": "stdout",
     "output_type": "stream",
     "text": [
      "2024-02-29--1636\n"
     ]
    }
   ],
   "source": [
    "import datetime\n",
    "str_time = datetime.datetime.now().strftime('%Y-%m-%d--%H%M')\n",
    "print(str_time)"
   ]
  },
  {
   "cell_type": "code",
   "execution_count": 13,
   "id": "6f4db730-e6b6-4854-a359-a6f465ba058b",
   "metadata": {},
   "outputs": [
    {
     "data": {
      "text/plain": [
       "'C:\\\\Users\\\\Nagant\\\\Desktop\\\\AIML\\\\tut01\\\\TF_2_Notebooks_and_Data\\\\03-ANNs'"
      ]
     },
     "execution_count": 13,
     "metadata": {},
     "output_type": "execute_result"
    }
   ],
   "source": [
    "pwd"
   ]
  },
  {
   "cell_type": "code",
   "execution_count": 14,
   "id": "2abb2fa3-3de7-4f51-8a46-818532129da7",
   "metadata": {},
   "outputs": [
    {
     "name": "stdout",
     "output_type": "stream",
     "text": [
      "logs\\fit\\2024-02-29--1636\n"
     ]
    }
   ],
   "source": [
    "log_directory = 'logs\\\\fit\\\\' + str_time\n",
    "print(log_directory)"
   ]
  },
  {
   "cell_type": "code",
   "execution_count": 15,
   "id": "7de7af87-50db-4a44-86f5-09d890396665",
   "metadata": {},
   "outputs": [],
   "source": [
    "board = TensorBoard(log_dir=log_directory, histogram_freq=1, write_graph=True, write_images=True, update_freq='epoch', profile_batch=2, embeddings_freq=1)"
   ]
  },
  {
   "cell_type": "code",
   "execution_count": 16,
   "id": "fe1decce-71d0-463c-84a4-fe7dda8db360",
   "metadata": {},
   "outputs": [
    {
     "name": "stdout",
     "output_type": "stream",
     "text": [
      "WARNING:tensorflow:From C:\\Users\\Nagant\\anaconda3\\envs\\mytfenv\\lib\\site-packages\\keras\\src\\backend.py:873: The name tf.get_default_graph is deprecated. Please use tf.compat.v1.get_default_graph instead.\n",
      "\n",
      "WARNING:tensorflow:From C:\\Users\\Nagant\\anaconda3\\envs\\mytfenv\\lib\\site-packages\\keras\\src\\optimizers\\__init__.py:309: The name tf.train.Optimizer is deprecated. Please use tf.compat.v1.train.Optimizer instead.\n",
      "\n"
     ]
    }
   ],
   "source": [
    "model = Sequential()\n",
    "\n",
    "model.add(Dense(30, activation='relu'))\n",
    "model.add(Dropout(0.5))\n",
    "model.add(Dense(15, activation='relu'))\n",
    "model.add(Dropout(0.5))\n",
    "\n",
    "\n",
    "model.add(Dense(1, activation='sigmoid'))\n",
    "\n",
    "model.compile(loss='binary_crossentropy', optimizer='adam')"
   ]
  },
  {
   "cell_type": "code",
   "execution_count": 17,
   "id": "10c48e99-fe66-481b-8497-3acd1dae24ce",
   "metadata": {},
   "outputs": [
    {
     "name": "stdout",
     "output_type": "stream",
     "text": [
      "Epoch 1/600\n",
      "WARNING:tensorflow:From C:\\Users\\Nagant\\anaconda3\\envs\\mytfenv\\lib\\site-packages\\keras\\src\\utils\\tf_utils.py:492: The name tf.ragged.RaggedTensorValue is deprecated. Please use tf.compat.v1.ragged.RaggedTensorValue instead.\n",
      "\n",
      "12/12 [==============================] - 2s 60ms/step - loss: 0.7159 - val_loss: 0.6765\n",
      "Epoch 2/600\n",
      "12/12 [==============================] - 0s 21ms/step - loss: 0.6794 - val_loss: 0.6600\n",
      "Epoch 3/600\n",
      "12/12 [==============================] - 0s 20ms/step - loss: 0.6564 - val_loss: 0.6444\n",
      "Epoch 4/600\n",
      "12/12 [==============================] - 0s 21ms/step - loss: 0.6498 - val_loss: 0.6276\n",
      "Epoch 5/600\n",
      "12/12 [==============================] - 0s 19ms/step - loss: 0.6254 - val_loss: 0.6087\n",
      "Epoch 6/600\n",
      "12/12 [==============================] - 0s 23ms/step - loss: 0.6236 - val_loss: 0.5872\n",
      "Epoch 7/600\n",
      "12/12 [==============================] - 0s 21ms/step - loss: 0.6096 - val_loss: 0.5653\n",
      "Epoch 8/600\n",
      "12/12 [==============================] - 0s 22ms/step - loss: 0.5758 - val_loss: 0.5394\n",
      "Epoch 9/600\n",
      "12/12 [==============================] - 0s 33ms/step - loss: 0.5732 - val_loss: 0.5154\n",
      "Epoch 10/600\n",
      "12/12 [==============================] - 0s 40ms/step - loss: 0.5239 - val_loss: 0.4907\n",
      "Epoch 11/600\n",
      "12/12 [==============================] - 0s 29ms/step - loss: 0.5360 - val_loss: 0.4688\n",
      "Epoch 12/600\n",
      "12/12 [==============================] - 0s 28ms/step - loss: 0.5211 - val_loss: 0.4492\n",
      "Epoch 13/600\n",
      "12/12 [==============================] - 0s 35ms/step - loss: 0.4728 - val_loss: 0.4255\n",
      "Epoch 14/600\n",
      "12/12 [==============================] - 0s 23ms/step - loss: 0.4527 - val_loss: 0.3941\n",
      "Epoch 15/600\n",
      "12/12 [==============================] - 0s 33ms/step - loss: 0.4551 - val_loss: 0.3707\n",
      "Epoch 16/600\n",
      "12/12 [==============================] - 0s 22ms/step - loss: 0.4204 - val_loss: 0.3532\n",
      "Epoch 17/600\n",
      "12/12 [==============================] - 0s 21ms/step - loss: 0.4034 - val_loss: 0.3333\n",
      "Epoch 18/600\n",
      "12/12 [==============================] - 0s 21ms/step - loss: 0.3991 - val_loss: 0.3171\n",
      "Epoch 19/600\n",
      "12/12 [==============================] - 0s 20ms/step - loss: 0.3627 - val_loss: 0.3043\n",
      "Epoch 20/600\n",
      "12/12 [==============================] - 0s 21ms/step - loss: 0.3494 - val_loss: 0.2851\n",
      "Epoch 21/600\n",
      "12/12 [==============================] - 1s 46ms/step - loss: 0.3513 - val_loss: 0.2711\n",
      "Epoch 22/600\n",
      "12/12 [==============================] - 0s 21ms/step - loss: 0.3678 - val_loss: 0.2663\n",
      "Epoch 23/600\n",
      "12/12 [==============================] - 0s 26ms/step - loss: 0.3186 - val_loss: 0.2551\n",
      "Epoch 24/600\n",
      "12/12 [==============================] - 0s 35ms/step - loss: 0.3187 - val_loss: 0.2459\n",
      "Epoch 25/600\n",
      "12/12 [==============================] - 0s 23ms/step - loss: 0.3095 - val_loss: 0.2391\n",
      "Epoch 26/600\n",
      "12/12 [==============================] - 0s 33ms/step - loss: 0.3114 - val_loss: 0.2354\n",
      "Epoch 27/600\n",
      "12/12 [==============================] - 0s 22ms/step - loss: 0.3110 - val_loss: 0.2339\n",
      "Epoch 28/600\n",
      "12/12 [==============================] - 0s 25ms/step - loss: 0.2686 - val_loss: 0.2189\n",
      "Epoch 29/600\n",
      "12/12 [==============================] - 0s 22ms/step - loss: 0.2848 - val_loss: 0.2129\n",
      "Epoch 30/600\n",
      "12/12 [==============================] - 0s 27ms/step - loss: 0.2903 - val_loss: 0.2069\n",
      "Epoch 31/600\n",
      "12/12 [==============================] - 0s 23ms/step - loss: 0.2692 - val_loss: 0.2033\n",
      "Epoch 32/600\n",
      "12/12 [==============================] - 0s 21ms/step - loss: 0.2404 - val_loss: 0.1982\n",
      "Epoch 33/600\n",
      "12/12 [==============================] - 0s 34ms/step - loss: 0.2499 - val_loss: 0.1936\n",
      "Epoch 34/600\n",
      "12/12 [==============================] - 0s 24ms/step - loss: 0.2257 - val_loss: 0.1845\n",
      "Epoch 35/600\n",
      "12/12 [==============================] - 0s 25ms/step - loss: 0.2313 - val_loss: 0.1805\n",
      "Epoch 36/600\n",
      "12/12 [==============================] - 0s 38ms/step - loss: 0.2329 - val_loss: 0.1796\n",
      "Epoch 37/600\n",
      "12/12 [==============================] - 0s 22ms/step - loss: 0.2245 - val_loss: 0.1756\n",
      "Epoch 38/600\n",
      "12/12 [==============================] - 0s 21ms/step - loss: 0.2380 - val_loss: 0.1749\n",
      "Epoch 39/600\n",
      "12/12 [==============================] - 0s 21ms/step - loss: 0.2183 - val_loss: 0.1783\n",
      "Epoch 40/600\n",
      "12/12 [==============================] - 0s 22ms/step - loss: 0.2082 - val_loss: 0.1745\n",
      "Epoch 41/600\n",
      "12/12 [==============================] - 0s 30ms/step - loss: 0.2054 - val_loss: 0.1668\n",
      "Epoch 42/600\n",
      "12/12 [==============================] - 0s 22ms/step - loss: 0.1990 - val_loss: 0.1653\n",
      "Epoch 43/600\n",
      "12/12 [==============================] - 0s 21ms/step - loss: 0.2028 - val_loss: 0.1609\n",
      "Epoch 44/600\n",
      "12/12 [==============================] - 0s 22ms/step - loss: 0.1872 - val_loss: 0.1576\n",
      "Epoch 45/600\n",
      "12/12 [==============================] - 0s 34ms/step - loss: 0.1630 - val_loss: 0.1565\n",
      "Epoch 46/600\n",
      "12/12 [==============================] - 0s 21ms/step - loss: 0.2093 - val_loss: 0.1546\n",
      "Epoch 47/600\n",
      "12/12 [==============================] - 0s 24ms/step - loss: 0.1858 - val_loss: 0.1530\n",
      "Epoch 48/600\n",
      "12/12 [==============================] - 0s 29ms/step - loss: 0.1793 - val_loss: 0.1509\n",
      "Epoch 49/600\n",
      "12/12 [==============================] - 0s 27ms/step - loss: 0.1842 - val_loss: 0.1495\n",
      "Epoch 50/600\n",
      "12/12 [==============================] - 0s 25ms/step - loss: 0.1705 - val_loss: 0.1466\n",
      "Epoch 51/600\n",
      "12/12 [==============================] - 0s 22ms/step - loss: 0.1899 - val_loss: 0.1445\n",
      "Epoch 52/600\n",
      "12/12 [==============================] - 0s 32ms/step - loss: 0.1803 - val_loss: 0.1419\n",
      "Epoch 53/600\n",
      "12/12 [==============================] - 0s 23ms/step - loss: 0.1693 - val_loss: 0.1401\n",
      "Epoch 54/600\n",
      "12/12 [==============================] - 0s 20ms/step - loss: 0.1710 - val_loss: 0.1391\n",
      "Epoch 55/600\n",
      "12/12 [==============================] - 0s 21ms/step - loss: 0.1708 - val_loss: 0.1402\n",
      "Epoch 56/600\n",
      "12/12 [==============================] - 0s 26ms/step - loss: 0.1490 - val_loss: 0.1392\n",
      "Epoch 57/600\n",
      "12/12 [==============================] - 0s 42ms/step - loss: 0.1260 - val_loss: 0.1372\n",
      "Epoch 58/600\n",
      "12/12 [==============================] - 0s 26ms/step - loss: 0.1576 - val_loss: 0.1372\n",
      "Epoch 59/600\n",
      "12/12 [==============================] - 0s 38ms/step - loss: 0.1511 - val_loss: 0.1359\n",
      "Epoch 60/600\n",
      "12/12 [==============================] - 1s 45ms/step - loss: 0.1171 - val_loss: 0.1342\n",
      "Epoch 61/600\n",
      "12/12 [==============================] - 0s 33ms/step - loss: 0.1407 - val_loss: 0.1344\n",
      "Epoch 62/600\n",
      "12/12 [==============================] - 0s 29ms/step - loss: 0.1612 - val_loss: 0.1359\n",
      "Epoch 63/600\n",
      "12/12 [==============================] - 0s 34ms/step - loss: 0.1316 - val_loss: 0.1324\n",
      "Epoch 64/600\n",
      "12/12 [==============================] - 0s 24ms/step - loss: 0.1297 - val_loss: 0.1316\n",
      "Epoch 65/600\n",
      "12/12 [==============================] - 0s 24ms/step - loss: 0.1584 - val_loss: 0.1390\n",
      "Epoch 66/600\n",
      "12/12 [==============================] - 0s 24ms/step - loss: 0.1480 - val_loss: 0.1307\n",
      "Epoch 67/600\n",
      "12/12 [==============================] - 0s 20ms/step - loss: 0.1338 - val_loss: 0.1325\n",
      "Epoch 68/600\n",
      "12/12 [==============================] - 0s 20ms/step - loss: 0.1265 - val_loss: 0.1301\n",
      "Epoch 69/600\n",
      "12/12 [==============================] - 0s 22ms/step - loss: 0.1227 - val_loss: 0.1281\n",
      "Epoch 70/600\n",
      "12/12 [==============================] - 0s 25ms/step - loss: 0.1059 - val_loss: 0.1290\n",
      "Epoch 71/600\n",
      "12/12 [==============================] - 0s 26ms/step - loss: 0.1282 - val_loss: 0.1287\n",
      "Epoch 72/600\n",
      "12/12 [==============================] - 1s 86ms/step - loss: 0.1138 - val_loss: 0.1289\n",
      "Epoch 73/600\n",
      "12/12 [==============================] - 0s 38ms/step - loss: 0.1368 - val_loss: 0.1274\n",
      "Epoch 74/600\n",
      "12/12 [==============================] - 1s 51ms/step - loss: 0.1338 - val_loss: 0.1269\n",
      "Epoch 75/600\n",
      "12/12 [==============================] - 0s 40ms/step - loss: 0.1232 - val_loss: 0.1282\n",
      "Epoch 76/600\n",
      "12/12 [==============================] - 0s 23ms/step - loss: 0.1096 - val_loss: 0.1259\n",
      "Epoch 77/600\n",
      "12/12 [==============================] - 0s 22ms/step - loss: 0.1262 - val_loss: 0.1316\n",
      "Epoch 78/600\n",
      "12/12 [==============================] - 0s 27ms/step - loss: 0.1030 - val_loss: 0.1267\n",
      "Epoch 79/600\n",
      "12/12 [==============================] - 0s 27ms/step - loss: 0.1092 - val_loss: 0.1243\n",
      "Epoch 80/600\n",
      "12/12 [==============================] - 0s 24ms/step - loss: 0.0932 - val_loss: 0.1240\n",
      "Epoch 81/600\n",
      "12/12 [==============================] - 0s 19ms/step - loss: 0.1026 - val_loss: 0.1263\n",
      "Epoch 82/600\n",
      "12/12 [==============================] - 0s 34ms/step - loss: 0.1042 - val_loss: 0.1304\n",
      "Epoch 83/600\n",
      "12/12 [==============================] - 0s 22ms/step - loss: 0.1008 - val_loss: 0.1261\n",
      "Epoch 84/600\n",
      "12/12 [==============================] - 0s 36ms/step - loss: 0.1250 - val_loss: 0.1289\n",
      "Epoch 85/600\n",
      "12/12 [==============================] - 0s 25ms/step - loss: 0.1101 - val_loss: 0.1267\n",
      "Epoch 86/600\n",
      "12/12 [==============================] - 0s 23ms/step - loss: 0.1036 - val_loss: 0.1292\n",
      "Epoch 87/600\n",
      "12/12 [==============================] - 0s 35ms/step - loss: 0.0914 - val_loss: 0.1257\n",
      "Epoch 88/600\n",
      "12/12 [==============================] - 0s 22ms/step - loss: 0.1002 - val_loss: 0.1246\n",
      "Epoch 89/600\n",
      "12/12 [==============================] - 0s 19ms/step - loss: 0.0884 - val_loss: 0.1271\n",
      "Epoch 90/600\n",
      "12/12 [==============================] - 0s 26ms/step - loss: 0.1256 - val_loss: 0.1240\n",
      "Epoch 91/600\n",
      "12/12 [==============================] - 0s 23ms/step - loss: 0.1044 - val_loss: 0.1225\n",
      "Epoch 92/600\n",
      "12/12 [==============================] - 0s 19ms/step - loss: 0.0977 - val_loss: 0.1215\n",
      "Epoch 93/600\n",
      "12/12 [==============================] - 0s 28ms/step - loss: 0.1116 - val_loss: 0.1212\n",
      "Epoch 94/600\n",
      "12/12 [==============================] - 0s 25ms/step - loss: 0.0875 - val_loss: 0.1235\n",
      "Epoch 95/600\n",
      "12/12 [==============================] - 0s 20ms/step - loss: 0.1367 - val_loss: 0.1244\n",
      "Epoch 96/600\n",
      "12/12 [==============================] - 0s 25ms/step - loss: 0.1123 - val_loss: 0.1228\n",
      "Epoch 97/600\n",
      "12/12 [==============================] - 0s 27ms/step - loss: 0.0961 - val_loss: 0.1209\n",
      "Epoch 98/600\n",
      "12/12 [==============================] - 0s 23ms/step - loss: 0.0882 - val_loss: 0.1203\n",
      "Epoch 99/600\n",
      "12/12 [==============================] - 0s 42ms/step - loss: 0.1052 - val_loss: 0.1211\n",
      "Epoch 100/600\n",
      "12/12 [==============================] - 0s 38ms/step - loss: 0.0898 - val_loss: 0.1231\n",
      "Epoch 101/600\n",
      "12/12 [==============================] - 0s 36ms/step - loss: 0.0926 - val_loss: 0.1214\n",
      "Epoch 102/600\n",
      "12/12 [==============================] - 0s 23ms/step - loss: 0.0783 - val_loss: 0.1212\n",
      "Epoch 103/600\n",
      "12/12 [==============================] - 0s 28ms/step - loss: 0.0887 - val_loss: 0.1216\n",
      "Epoch 104/600\n",
      "12/12 [==============================] - 0s 22ms/step - loss: 0.0947 - val_loss: 0.1210\n",
      "Epoch 105/600\n",
      "12/12 [==============================] - 0s 23ms/step - loss: 0.0848 - val_loss: 0.1207\n",
      "Epoch 106/600\n",
      "12/12 [==============================] - 0s 29ms/step - loss: 0.0960 - val_loss: 0.1205\n",
      "Epoch 107/600\n",
      "12/12 [==============================] - 0s 32ms/step - loss: 0.0833 - val_loss: 0.1242\n",
      "Epoch 108/600\n",
      "12/12 [==============================] - 0s 25ms/step - loss: 0.0789 - val_loss: 0.1212\n",
      "Epoch 109/600\n",
      "12/12 [==============================] - 0s 22ms/step - loss: 0.0888 - val_loss: 0.1232\n",
      "Epoch 110/600\n",
      "12/12 [==============================] - 0s 21ms/step - loss: 0.0747 - val_loss: 0.1183\n",
      "Epoch 111/600\n",
      "12/12 [==============================] - 0s 20ms/step - loss: 0.0909 - val_loss: 0.1190\n",
      "Epoch 112/600\n",
      "12/12 [==============================] - 0s 21ms/step - loss: 0.0841 - val_loss: 0.1193\n",
      "Epoch 113/600\n",
      "12/12 [==============================] - 0s 22ms/step - loss: 0.0994 - val_loss: 0.1183\n",
      "Epoch 114/600\n",
      "12/12 [==============================] - 0s 20ms/step - loss: 0.0922 - val_loss: 0.1189\n",
      "Epoch 115/600\n",
      "12/12 [==============================] - 0s 29ms/step - loss: 0.0880 - val_loss: 0.1194\n",
      "Epoch 116/600\n",
      "12/12 [==============================] - 1s 50ms/step - loss: 0.0882 - val_loss: 0.1235\n",
      "Epoch 117/600\n",
      "12/12 [==============================] - 0s 34ms/step - loss: 0.0712 - val_loss: 0.1215\n",
      "Epoch 118/600\n",
      "12/12 [==============================] - 0s 30ms/step - loss: 0.0855 - val_loss: 0.1215\n",
      "Epoch 119/600\n",
      "12/12 [==============================] - 0s 32ms/step - loss: 0.0887 - val_loss: 0.1206\n",
      "Epoch 120/600\n",
      "12/12 [==============================] - 0s 28ms/step - loss: 0.0687 - val_loss: 0.1200\n",
      "Epoch 121/600\n",
      "12/12 [==============================] - 0s 34ms/step - loss: 0.0696 - val_loss: 0.1198\n",
      "Epoch 122/600\n",
      "12/12 [==============================] - 0s 22ms/step - loss: 0.0773 - val_loss: 0.1210\n",
      "Epoch 123/600\n",
      "12/12 [==============================] - 0s 23ms/step - loss: 0.0780 - val_loss: 0.1217\n",
      "Epoch 124/600\n",
      "12/12 [==============================] - 0s 20ms/step - loss: 0.1009 - val_loss: 0.1209\n",
      "Epoch 125/600\n",
      "12/12 [==============================] - 0s 20ms/step - loss: 0.0801 - val_loss: 0.1245\n",
      "Epoch 126/600\n",
      "12/12 [==============================] - 0s 38ms/step - loss: 0.0805 - val_loss: 0.1263\n",
      "Epoch 127/600\n",
      "12/12 [==============================] - 0s 37ms/step - loss: 0.0725 - val_loss: 0.1266\n",
      "Epoch 128/600\n",
      "12/12 [==============================] - 0s 36ms/step - loss: 0.0697 - val_loss: 0.1281\n",
      "Epoch 129/600\n",
      "12/12 [==============================] - 0s 23ms/step - loss: 0.0984 - val_loss: 0.1256\n",
      "Epoch 130/600\n",
      "12/12 [==============================] - 0s 25ms/step - loss: 0.0648 - val_loss: 0.1245\n",
      "Epoch 131/600\n",
      "12/12 [==============================] - 0s 27ms/step - loss: 0.0829 - val_loss: 0.1249\n",
      "Epoch 132/600\n",
      "12/12 [==============================] - 0s 28ms/step - loss: 0.0673 - val_loss: 0.1222\n",
      "Epoch 133/600\n",
      "12/12 [==============================] - 0s 20ms/step - loss: 0.0765 - val_loss: 0.1200\n",
      "Epoch 134/600\n",
      "12/12 [==============================] - 0s 22ms/step - loss: 0.0834 - val_loss: 0.1204\n",
      "Epoch 135/600\n",
      "12/12 [==============================] - 0s 20ms/step - loss: 0.0917 - val_loss: 0.1198\n",
      "Epoch 136/600\n",
      "12/12 [==============================] - 0s 21ms/step - loss: 0.0743 - val_loss: 0.1214\n",
      "Epoch 137/600\n",
      "12/12 [==============================] - 0s 24ms/step - loss: 0.0613 - val_loss: 0.1213\n",
      "Epoch 138/600\n",
      "12/12 [==============================] - 0s 29ms/step - loss: 0.0680 - val_loss: 0.1236\n",
      "Epoch 138: early stopping\n"
     ]
    },
    {
     "data": {
      "text/plain": [
       "<keras.src.callbacks.History at 0x26d321b2a70>"
      ]
     },
     "execution_count": 17,
     "metadata": {},
     "output_type": "execute_result"
    }
   ],
   "source": [
    "model.fit(x=X_train, y=y_train, validation_data=(X_test, y_test), epochs=600, callbacks=[early_stopping, board], verbose=1)"
   ]
  },
  {
   "cell_type": "code",
   "execution_count": null,
   "id": "2308b2ac-05f4-4288-bfd7-81f9c2619663",
   "metadata": {},
   "outputs": [],
   "source": []
  }
 ],
 "metadata": {
  "kernelspec": {
   "display_name": "Python 3 (ipykernel)",
   "language": "python",
   "name": "python3"
  },
  "language_info": {
   "codemirror_mode": {
    "name": "ipython",
    "version": 3
   },
   "file_extension": ".py",
   "mimetype": "text/x-python",
   "name": "python",
   "nbconvert_exporter": "python",
   "pygments_lexer": "ipython3",
   "version": "3.10.12"
  }
 },
 "nbformat": 4,
 "nbformat_minor": 5
}
