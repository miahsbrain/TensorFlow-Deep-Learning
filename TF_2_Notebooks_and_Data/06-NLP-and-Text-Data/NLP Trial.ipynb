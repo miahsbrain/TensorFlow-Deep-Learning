{
 "cells": [
  {
   "cell_type": "code",
   "execution_count": 1,
   "id": "cf7edfa2-2210-4eeb-8fce-032457606921",
   "metadata": {},
   "outputs": [
    {
     "name": "stdout",
     "output_type": "stream",
     "text": [
      "WARNING:tensorflow:From C:\\Users\\Nagant\\anaconda3\\envs\\mytfenv\\lib\\site-packages\\keras\\src\\losses.py:2976: The name tf.losses.sparse_softmax_cross_entropy is deprecated. Please use tf.compat.v1.losses.sparse_softmax_cross_entropy instead.\n",
      "\n"
     ]
    }
   ],
   "source": [
    "import numpy as np\n",
    "import tensorflow as tf\n",
    "import matplotlib.pyplot as plt\n",
    "import pandas as pd"
   ]
  },
  {
   "cell_type": "code",
   "execution_count": 2,
   "id": "744b6c55-8666-4f4d-9c2f-91850bbeb0d1",
   "metadata": {},
   "outputs": [],
   "source": [
    "path_to_text ='shakespeare.txt'"
   ]
  },
  {
   "cell_type": "code",
   "execution_count": 3,
   "id": "edff5f68-f933-43a3-b84d-cc07e812cf5c",
   "metadata": {},
   "outputs": [],
   "source": [
    "text = open(path_to_text, 'r').read()"
   ]
  },
  {
   "cell_type": "code",
   "execution_count": 4,
   "id": "108abc27-ed4a-49cb-9e68-46e479059835",
   "metadata": {},
   "outputs": [
    {
     "data": {
      "text/plain": [
       "\"\\n                     1\\n  From fairest creatures we desire increase,\\n  That thereby beauty's rose might never die,\\n  But as the riper should by time decease,\\n  His tender heir might bear his memory:\\n  But thou contracted to thine own bright eyes,\\n  Feed'st thy light's flame with self-substantial fuel,\\n  Making a famine where abundance lies,\\n  Thy self thy foe, to thy sweet self too cruel:\\n  Thou that art now the world's fresh ornament,\\n  And only herald to the gaudy spring,\\n  Within thine own bu\""
      ]
     },
     "execution_count": 4,
     "metadata": {},
     "output_type": "execute_result"
    }
   ],
   "source": [
    "text[:500]"
   ]
  },
  {
   "cell_type": "code",
   "execution_count": 6,
   "id": "bec911ec-7c74-4252-930b-cf2e8b7db0a3",
   "metadata": {},
   "outputs": [],
   "source": [
    "vocab = sorted(set(text))"
   ]
  },
  {
   "cell_type": "code",
   "execution_count": 7,
   "id": "c0728eea-933e-4e02-927a-0461cf89930b",
   "metadata": {},
   "outputs": [
    {
     "data": {
      "text/plain": [
       "['\\n',\n",
       " ' ',\n",
       " '!',\n",
       " '\"',\n",
       " '&',\n",
       " \"'\",\n",
       " '(',\n",
       " ')',\n",
       " ',',\n",
       " '-',\n",
       " '.',\n",
       " '0',\n",
       " '1',\n",
       " '2',\n",
       " '3',\n",
       " '4',\n",
       " '5',\n",
       " '6',\n",
       " '7',\n",
       " '8',\n",
       " '9',\n",
       " ':',\n",
       " ';',\n",
       " '<',\n",
       " '>',\n",
       " '?',\n",
       " 'A',\n",
       " 'B',\n",
       " 'C',\n",
       " 'D',\n",
       " 'E',\n",
       " 'F',\n",
       " 'G',\n",
       " 'H',\n",
       " 'I',\n",
       " 'J',\n",
       " 'K',\n",
       " 'L',\n",
       " 'M',\n",
       " 'N',\n",
       " 'O',\n",
       " 'P',\n",
       " 'Q',\n",
       " 'R',\n",
       " 'S',\n",
       " 'T',\n",
       " 'U',\n",
       " 'V',\n",
       " 'W',\n",
       " 'X',\n",
       " 'Y',\n",
       " 'Z',\n",
       " '[',\n",
       " ']',\n",
       " '_',\n",
       " '`',\n",
       " 'a',\n",
       " 'b',\n",
       " 'c',\n",
       " 'd',\n",
       " 'e',\n",
       " 'f',\n",
       " 'g',\n",
       " 'h',\n",
       " 'i',\n",
       " 'j',\n",
       " 'k',\n",
       " 'l',\n",
       " 'm',\n",
       " 'n',\n",
       " 'o',\n",
       " 'p',\n",
       " 'q',\n",
       " 'r',\n",
       " 's',\n",
       " 't',\n",
       " 'u',\n",
       " 'v',\n",
       " 'w',\n",
       " 'x',\n",
       " 'y',\n",
       " 'z',\n",
       " '|',\n",
       " '}']"
      ]
     },
     "execution_count": 7,
     "metadata": {},
     "output_type": "execute_result"
    }
   ],
   "source": [
    "vocab"
   ]
  },
  {
   "cell_type": "code",
   "execution_count": 8,
   "id": "d75011f9-5ea7-4f79-9cc2-76295c52b7a2",
   "metadata": {},
   "outputs": [],
   "source": [
    "text_to_ind = {char:ind for ind, char in enumerate(vocab)}"
   ]
  },
  {
   "cell_type": "code",
   "execution_count": 9,
   "id": "d53f1ef8-e306-4eb3-b002-26968571820c",
   "metadata": {},
   "outputs": [
    {
     "data": {
      "text/plain": [
       "{'\\n': 0,\n",
       " ' ': 1,\n",
       " '!': 2,\n",
       " '\"': 3,\n",
       " '&': 4,\n",
       " \"'\": 5,\n",
       " '(': 6,\n",
       " ')': 7,\n",
       " ',': 8,\n",
       " '-': 9,\n",
       " '.': 10,\n",
       " '0': 11,\n",
       " '1': 12,\n",
       " '2': 13,\n",
       " '3': 14,\n",
       " '4': 15,\n",
       " '5': 16,\n",
       " '6': 17,\n",
       " '7': 18,\n",
       " '8': 19,\n",
       " '9': 20,\n",
       " ':': 21,\n",
       " ';': 22,\n",
       " '<': 23,\n",
       " '>': 24,\n",
       " '?': 25,\n",
       " 'A': 26,\n",
       " 'B': 27,\n",
       " 'C': 28,\n",
       " 'D': 29,\n",
       " 'E': 30,\n",
       " 'F': 31,\n",
       " 'G': 32,\n",
       " 'H': 33,\n",
       " 'I': 34,\n",
       " 'J': 35,\n",
       " 'K': 36,\n",
       " 'L': 37,\n",
       " 'M': 38,\n",
       " 'N': 39,\n",
       " 'O': 40,\n",
       " 'P': 41,\n",
       " 'Q': 42,\n",
       " 'R': 43,\n",
       " 'S': 44,\n",
       " 'T': 45,\n",
       " 'U': 46,\n",
       " 'V': 47,\n",
       " 'W': 48,\n",
       " 'X': 49,\n",
       " 'Y': 50,\n",
       " 'Z': 51,\n",
       " '[': 52,\n",
       " ']': 53,\n",
       " '_': 54,\n",
       " '`': 55,\n",
       " 'a': 56,\n",
       " 'b': 57,\n",
       " 'c': 58,\n",
       " 'd': 59,\n",
       " 'e': 60,\n",
       " 'f': 61,\n",
       " 'g': 62,\n",
       " 'h': 63,\n",
       " 'i': 64,\n",
       " 'j': 65,\n",
       " 'k': 66,\n",
       " 'l': 67,\n",
       " 'm': 68,\n",
       " 'n': 69,\n",
       " 'o': 70,\n",
       " 'p': 71,\n",
       " 'q': 72,\n",
       " 'r': 73,\n",
       " 's': 74,\n",
       " 't': 75,\n",
       " 'u': 76,\n",
       " 'v': 77,\n",
       " 'w': 78,\n",
       " 'x': 79,\n",
       " 'y': 80,\n",
       " 'z': 81,\n",
       " '|': 82,\n",
       " '}': 83}"
      ]
     },
     "execution_count": 9,
     "metadata": {},
     "output_type": "execute_result"
    }
   ],
   "source": [
    "text_to_ind"
   ]
  },
  {
   "cell_type": "code",
   "execution_count": 10,
   "id": "72477cff-7bb1-44ab-a233-87294785fb77",
   "metadata": {},
   "outputs": [],
   "source": [
    "ind_to_text = np.array(vocab)"
   ]
  },
  {
   "cell_type": "code",
   "execution_count": 12,
   "id": "64a95ddb-dae2-4639-a10c-706ec9ca32de",
   "metadata": {},
   "outputs": [
    {
     "data": {
      "text/plain": [
       "'1'"
      ]
     },
     "execution_count": 12,
     "metadata": {},
     "output_type": "execute_result"
    }
   ],
   "source": [
    "ind_to_text[12]"
   ]
  },
  {
   "cell_type": "code",
   "execution_count": 14,
   "id": "c5bc6f7d-a4f8-44c6-801a-ff0c62f2677b",
   "metadata": {},
   "outputs": [
    {
     "data": {
      "text/plain": [
       "12"
      ]
     },
     "execution_count": 14,
     "metadata": {},
     "output_type": "execute_result"
    }
   ],
   "source": [
    "text_to_ind['1']"
   ]
  },
  {
   "cell_type": "code",
   "execution_count": 19,
   "id": "a29d5fb6-9703-40fc-b82f-7fea76879a4a",
   "metadata": {},
   "outputs": [],
   "source": [
    "encoded_text = np.array([text_to_ind[c] for c in text])"
   ]
  },
  {
   "cell_type": "code",
   "execution_count": 20,
   "id": "97bcc791-3895-49e8-a92f-6f60eb331a25",
   "metadata": {},
   "outputs": [
    {
     "data": {
      "text/plain": [
       "array([ 0,  1,  1,  1,  1,  1,  1,  1,  1,  1,  1,  1,  1,  1,  1,  1,  1,\n",
       "        1,  1,  1,  1,  1, 12,  0,  1,  1, 31, 73, 70, 68,  1, 61, 56, 64,\n",
       "       73, 60, 74, 75,  1, 58, 73, 60, 56, 75, 76, 73, 60, 74,  1, 78, 60,\n",
       "        1, 59, 60, 74, 64, 73, 60,  1, 64, 69, 58, 73, 60, 56, 74, 60,  8,\n",
       "        0,  1,  1, 45, 63, 56, 75,  1, 75, 63, 60, 73, 60, 57, 80,  1, 57,\n",
       "       60, 56, 76, 75, 80,  5, 74,  1, 73, 70, 74, 60,  1, 68, 64, 62, 63,\n",
       "       75,  1, 69, 60, 77, 60, 73,  1, 59, 64, 60,  8,  0,  1,  1, 27, 76,\n",
       "       75,  1, 56, 74,  1, 75, 63, 60,  1, 73, 64, 71, 60, 73,  1, 74, 63,\n",
       "       70, 76, 67, 59,  1, 57, 80,  1, 75, 64, 68, 60,  1, 59, 60, 58, 60,\n",
       "       56, 74, 60,  8,  0,  1,  1, 33, 64, 74,  1, 75, 60, 69, 59, 60, 73,\n",
       "        1, 63, 60, 64, 73,  1, 68, 64, 62, 63, 75,  1, 57, 60, 56, 73,  1,\n",
       "       63, 64, 74,  1, 68, 60, 68, 70, 73, 80, 21,  0,  1,  1, 27, 76, 75,\n",
       "        1, 75, 63, 70, 76,  1, 58, 70, 69, 75, 73, 56, 58, 75, 60, 59,  1,\n",
       "       75, 70,  1, 75, 63, 64, 69, 60,  1, 70, 78, 69,  1, 57, 73, 64, 62,\n",
       "       63, 75,  1, 60, 80, 60, 74,  8,  0,  1,  1, 31, 60, 60, 59,  5, 74,\n",
       "       75,  1, 75, 63, 80,  1, 67, 64, 62, 63, 75,  5, 74,  1, 61, 67, 56,\n",
       "       68, 60,  1, 78, 64, 75, 63,  1, 74, 60, 67, 61,  9, 74, 76, 57, 74,\n",
       "       75, 56, 69, 75, 64, 56, 67,  1, 61, 76, 60, 67,  8,  0,  1,  1, 38,\n",
       "       56, 66, 64, 69, 62,  1, 56,  1, 61, 56, 68, 64, 69, 60,  1, 78, 63,\n",
       "       60, 73, 60,  1, 56, 57, 76, 69, 59, 56, 69, 58, 60,  1, 67, 64, 60,\n",
       "       74,  8,  0,  1,  1, 45, 63, 80,  1, 74, 60, 67, 61,  1, 75, 63, 80,\n",
       "        1, 61, 70, 60,  8,  1, 75, 70,  1, 75, 63, 80,  1, 74, 78, 60, 60,\n",
       "       75,  1, 74, 60, 67, 61,  1, 75, 70, 70,  1, 58, 73, 76, 60, 67, 21,\n",
       "        0,  1,  1, 45, 63, 70, 76,  1, 75, 63, 56, 75,  1, 56, 73, 75,  1,\n",
       "       69, 70, 78,  1, 75, 63, 60,  1, 78, 70, 73, 67, 59,  5, 74,  1, 61,\n",
       "       73, 60, 74, 63,  1, 70, 73, 69, 56, 68, 60, 69, 75,  8,  0,  1,  1,\n",
       "       26, 69, 59,  1, 70, 69, 67, 80,  1, 63, 60, 73, 56, 67, 59,  1, 75,\n",
       "       70,  1, 75, 63, 60,  1, 62, 56, 76, 59, 80,  1, 74, 71, 73, 64, 69,\n",
       "       62,  8,  0,  1,  1, 48, 64, 75, 63, 64, 69,  1, 75, 63, 64, 69, 60,\n",
       "        1, 70, 78, 69,  1, 57, 76])"
      ]
     },
     "execution_count": 20,
     "metadata": {},
     "output_type": "execute_result"
    }
   ],
   "source": [
    "encoded_text[:500]"
   ]
  },
  {
   "cell_type": "code",
   "execution_count": 21,
   "id": "4843f27b-54a5-4dac-a4c7-dc7f17cd83ae",
   "metadata": {},
   "outputs": [
    {
     "data": {
      "text/plain": [
       "\"\\n                     1\\n  From fairest creatures we desire increase,\\n  That thereby beauty's rose might never die,\\n  But as the riper should by time decease,\\n  His tender heir might bear his memory:\\n  But thou contracted to thine own bright eyes,\\n  Feed'st thy light's flame with self-substantial fuel,\\n  Making a famine where abundance lies,\\n  Thy self thy foe, to thy sweet self too cruel:\\n  Thou that art now the world's fresh ornament,\\n  And only herald to the gaudy spring,\\n  Within thine own bu\""
      ]
     },
     "execution_count": 21,
     "metadata": {},
     "output_type": "execute_result"
    }
   ],
   "source": [
    "text[:500]"
   ]
  },
  {
   "cell_type": "code",
   "execution_count": 22,
   "id": "bb5989a7-4356-4c27-8ab1-7acf24b60d16",
   "metadata": {},
   "outputs": [],
   "source": [
    "line = 'From fairest creatures we desire increase'"
   ]
  },
  {
   "cell_type": "code",
   "execution_count": 23,
   "id": "54f6a934-a32b-4ef6-8ee6-27277de04299",
   "metadata": {},
   "outputs": [
    {
     "data": {
      "text/plain": [
       "41"
      ]
     },
     "execution_count": 23,
     "metadata": {},
     "output_type": "execute_result"
    }
   ],
   "source": [
    "len(line)"
   ]
  },
  {
   "cell_type": "code",
   "execution_count": 25,
   "id": "c709debd-29bd-4af0-b239-097ca6a36c64",
   "metadata": {},
   "outputs": [],
   "source": [
    "lines = \"From fairest creatures we desire increase,\\n  That thereby beauty's rose might never die,\\n  But as the riper should by time decease\""
   ]
  },
  {
   "cell_type": "code",
   "execution_count": 26,
   "id": "770bbebd-aef8-4163-ac4b-b91bfef3bf07",
   "metadata": {},
   "outputs": [
    {
     "data": {
      "text/plain": [
       "130"
      ]
     },
     "execution_count": 26,
     "metadata": {},
     "output_type": "execute_result"
    }
   ],
   "source": [
    "len(lines)"
   ]
  },
  {
   "cell_type": "code",
   "execution_count": 27,
   "id": "832de16f-7e0b-43b8-9652-1b267c878958",
   "metadata": {},
   "outputs": [],
   "source": [
    "seq_length = 120"
   ]
  },
  {
   "cell_type": "code",
   "execution_count": 30,
   "id": "43f12cc3-d2d5-4a15-9b88-90a9d0eb104c",
   "metadata": {},
   "outputs": [],
   "source": [
    "total_num_sequences = len(text) // (seq_length+1)"
   ]
  },
  {
   "cell_type": "code",
   "execution_count": 31,
   "id": "e969c253-e8e2-485c-a095-835b6b3cae21",
   "metadata": {},
   "outputs": [
    {
     "data": {
      "text/plain": [
       "45005"
      ]
     },
     "execution_count": 31,
     "metadata": {},
     "output_type": "execute_result"
    }
   ],
   "source": [
    "total_num_sequences"
   ]
  },
  {
   "cell_type": "code",
   "execution_count": 34,
   "id": "5b5ce36e-5801-47c3-a42a-f88ce594350b",
   "metadata": {},
   "outputs": [],
   "source": [
    "dataset = tf.data.Dataset.from_tensor_slices(encoded_text)"
   ]
  },
  {
   "cell_type": "code",
   "execution_count": 35,
   "id": "7eb899f6-050e-46e7-9547-ccb0d8a9c8c4",
   "metadata": {},
   "outputs": [],
   "source": [
    "sequences = dataset.batch(batch_size=(seq_length+1), drop_remainder=True)"
   ]
  },
  {
   "cell_type": "code",
   "execution_count": 40,
   "id": "b9070d65-7e1e-4df1-89ef-7c02d276024c",
   "metadata": {},
   "outputs": [
    {
     "name": "stdout",
     "output_type": "stream",
     "text": [
      "121\n",
      "tf.Tensor(\n",
      "[ 0  1  1  1  1  1  1  1  1  1  1  1  1  1  1  1  1  1  1  1  1  1 12  0\n",
      "  1  1 31 73 70 68  1 61 56 64 73 60 74 75  1 58 73 60 56 75 76 73 60 74\n",
      "  1 78 60  1 59 60 74 64 73 60  1 64 69 58 73 60 56 74 60  8  0  1  1 45\n",
      " 63 56 75  1 75 63 60 73 60 57 80  1 57 60 56 76 75 80  5 74  1 73 70 74\n",
      " 60  1 68 64 62 63 75  1 69 60 77 60 73  1 59 64 60  8  0  1  1 27 76 75\n",
      "  1], shape=(121,), dtype=int32)\n"
     ]
    }
   ],
   "source": [
    "for seq in sequences.take(1):\n",
    "    print(len(seq))\n",
    "    print(seq)"
   ]
  },
  {
   "cell_type": "code",
   "execution_count": 41,
   "id": "9ce18ab7-9b73-43d7-abb1-82753d37cd0d",
   "metadata": {},
   "outputs": [],
   "source": [
    "def create_seq_targets(seq):\n",
    "    input_text = seq[:-1]\n",
    "    output_text = seq[1:]\n",
    "    return input_text, output_text"
   ]
  },
  {
   "cell_type": "code",
   "execution_count": 44,
   "id": "a03a21c4-d2dd-43dd-bfc1-b3b292e8438b",
   "metadata": {},
   "outputs": [],
   "source": [
    "dataset = sequences.map(create_seq_targets)"
   ]
  },
  {
   "cell_type": "code",
   "execution_count": 45,
   "id": "c04de2e9-0289-4252-8718-ab8cb63c1505",
   "metadata": {},
   "outputs": [],
   "source": [
    "buffer_size = 10000\n",
    "batch_size = 128\n",
    "dataset = dataset.shuffle(buffer_size=buffer_size, seed=101).batch(batch_size=batch_size, drop_remainder=True)"
   ]
  },
  {
   "cell_type": "code",
   "execution_count": 46,
   "id": "64c05161-b1b4-40b3-b128-0745b73f6e5d",
   "metadata": {},
   "outputs": [],
   "source": [
    "vocab_size = len(vocab)"
   ]
  },
  {
   "cell_type": "code",
   "execution_count": 47,
   "id": "9503e878-5178-48bb-8d6c-fcbb9c0c8a61",
   "metadata": {},
   "outputs": [
    {
     "data": {
      "text/plain": [
       "84"
      ]
     },
     "execution_count": 47,
     "metadata": {},
     "output_type": "execute_result"
    }
   ],
   "source": [
    "vocab_size"
   ]
  },
  {
   "cell_type": "code",
   "execution_count": 49,
   "id": "4b2bdb04-a9f9-4ea6-85c9-ab7ee09af86d",
   "metadata": {},
   "outputs": [],
   "source": [
    "embed_dim = 64\n",
    "rnn_neurons = 1026"
   ]
  },
  {
   "cell_type": "code",
   "execution_count": 48,
   "id": "322f0bcc-f6a9-4f03-976b-38917ae89a97",
   "metadata": {},
   "outputs": [],
   "source": [
    "def sparse_cat_entropy(y_true, y_pred):\n",
    "    return tf.keras.losses.sparse_categorical_crossentropy(y_true, y_pred, from_logits=True)"
   ]
  },
  {
   "cell_type": "code",
   "execution_count": 51,
   "id": "535cbee5-8647-4c5f-955c-becef08dc618",
   "metadata": {},
   "outputs": [],
   "source": [
    "layers = tf.keras.layers"
   ]
  },
  {
   "cell_type": "code",
   "execution_count": 56,
   "id": "fff87d66-0f1d-4cf2-b81d-23ef759ecefc",
   "metadata": {},
   "outputs": [],
   "source": [
    "def create_model(vocab_size, embed_dim, rnn_neurons, batch_size):\n",
    "    model = tf.keras.models.Sequential([\n",
    "        layers.Embedding(input_dim=vocab_size, output_dim=embed_dim, batch_input_shape=(batch_size, None)),\n",
    "        layers.GRU(rnn_neurons, recurrent_initializer='glorot_uniform', stateful=True, return_sequences=True),\n",
    "        layers.Dense(vocab_size)\n",
    "    ])\n",
    "    model.compile(optimizer='adam', loss=sparse_cat_entropy)\n",
    "    return model"
   ]
  },
  {
   "cell_type": "code",
   "execution_count": 57,
   "id": "7405a169-f387-4f5a-9659-f52238ed7bad",
   "metadata": {},
   "outputs": [],
   "source": [
    "model = create_model(vocab_size=vocab_size, embed_dim=embed_dim, rnn_neurons=rnn_neurons, batch_size=batch_size)"
   ]
  },
  {
   "cell_type": "code",
   "execution_count": 58,
   "id": "f5e11ef2-7288-402d-baec-6ec1c427b886",
   "metadata": {},
   "outputs": [
    {
     "name": "stdout",
     "output_type": "stream",
     "text": [
      "Model: \"sequential_1\"\n",
      "_________________________________________________________________\n",
      " Layer (type)                Output Shape              Param #   \n",
      "=================================================================\n",
      " embedding_1 (Embedding)     (128, None, 64)           5376      \n",
      "                                                                 \n",
      " gru_1 (GRU)                 (128, None, 1026)         3361176   \n",
      "                                                                 \n",
      " dense_1 (Dense)             (128, None, 84)           86268     \n",
      "                                                                 \n",
      "=================================================================\n",
      "Total params: 3452820 (13.17 MB)\n",
      "Trainable params: 3452820 (13.17 MB)\n",
      "Non-trainable params: 0 (0.00 Byte)\n",
      "_________________________________________________________________\n"
     ]
    }
   ],
   "source": [
    "model.summary()"
   ]
  },
  {
   "cell_type": "code",
   "execution_count": 60,
   "id": "a44c7b1e-020f-4f72-9cdd-475873d7e81e",
   "metadata": {},
   "outputs": [
    {
     "name": "stdout",
     "output_type": "stream",
     "text": [
      "(128, 120, 84)\n",
      "tf.Tensor(\n",
      "[[[-1.23389647e-03 -5.69363870e-03  2.30979826e-03 ... -1.00751373e-03\n",
      "    2.48931069e-03 -2.19612173e-03]\n",
      "  [-1.51493016e-03 -5.55417547e-03 -3.79760284e-03 ...  3.57460254e-03\n",
      "   -3.66402185e-03 -5.34003833e-03]\n",
      "  [ 4.56140470e-03 -1.00379833e-03 -5.13201579e-03 ...  1.76563603e-03\n",
      "   -7.73050589e-04 -3.15097277e-03]\n",
      "  ...\n",
      "  [-2.65766401e-03 -2.20672810e-03  4.72464832e-03 ...  4.49626800e-03\n",
      "   -2.06462154e-03 -4.52559395e-03]\n",
      "  [-2.89121270e-03 -2.00090976e-03 -8.40285677e-04 ...  5.92498481e-03\n",
      "   -5.14471112e-03 -4.97441273e-03]\n",
      "  [-2.69973092e-03 -1.86900748e-03 -3.40820407e-03 ...  6.48890762e-03\n",
      "   -6.89630397e-03 -4.52549756e-03]]\n",
      "\n",
      " [[ 3.35194939e-03 -5.36373677e-03 -2.25806609e-03 ... -1.27978425e-03\n",
      "    8.75710510e-03  1.60032103e-03]\n",
      "  [-1.39220199e-03 -8.14021844e-03  4.89543844e-03 ...  1.09475479e-03\n",
      "    6.97899284e-03  5.13872039e-03]\n",
      "  [-2.93406704e-03 -8.66814423e-03  5.99387195e-03 ...  2.49854580e-04\n",
      "    6.75544282e-03  1.77878013e-03]\n",
      "  ...\n",
      "  [-9.24778357e-03 -4.68506059e-03  4.78054862e-03 ... -7.76075758e-05\n",
      "   -2.91597354e-03  2.17779248e-04]\n",
      "  [-6.03212044e-04  4.36571310e-04  6.09824248e-03 ... -3.99670377e-03\n",
      "   -8.11429881e-03  1.48221233e-03]\n",
      "  [-3.13860993e-03 -2.69141421e-03 -5.59833774e-04 ...  2.01279297e-03\n",
      "   -8.12843256e-03 -4.78342734e-03]]\n",
      "\n",
      " [[ 5.95817575e-03  1.63256214e-03  4.07583360e-03 ... -2.53369636e-03\n",
      "   -6.03724178e-03  2.10032798e-03]\n",
      "  [-6.55979291e-03 -2.66633765e-03  9.52360313e-03 ...  4.86162817e-03\n",
      "    6.16079522e-03  3.78869753e-03]\n",
      "  [-4.02736245e-03  4.54624463e-03  3.82269779e-03 ...  1.78473711e-03\n",
      "    4.93992772e-03 -2.86851451e-03]\n",
      "  ...\n",
      "  [ 1.81827671e-03 -1.33073062e-03  6.65955432e-03 ... -2.19191122e-03\n",
      "   -6.10326696e-03  3.48055456e-03]\n",
      "  [-1.56771694e-03 -3.66513524e-03  4.25109640e-04 ...  3.61246523e-03\n",
      "   -6.90896017e-03 -3.23090260e-03]\n",
      "  [-1.96758006e-03  6.99112250e-04  6.54554181e-03 ... -3.09755956e-03\n",
      "   -5.80368796e-03 -4.19908436e-03]]\n",
      "\n",
      " ...\n",
      "\n",
      " [[ 2.66430900e-04  3.72890872e-03 -5.51763410e-03 ... -2.78233457e-03\n",
      "    2.63688667e-03 -3.05503421e-03]\n",
      "  [ 1.00744690e-03  4.80824616e-03  2.69104261e-04 ...  3.14289262e-03\n",
      "   -4.92101535e-04  3.19320988e-03]\n",
      "  [-5.67571551e-04  7.08410703e-03 -4.72156703e-03 ... -9.98058356e-04\n",
      "    2.64047086e-03 -1.08517590e-03]\n",
      "  ...\n",
      "  [ 6.20824867e-04 -3.16946255e-03 -5.67925069e-03 ...  3.37321591e-03\n",
      "   -4.34091967e-03 -5.98228537e-03]\n",
      "  [-4.94738994e-03 -6.33087615e-03 -6.53340714e-03 ... -2.22726469e-03\n",
      "   -9.00747487e-04  1.27410993e-03]\n",
      "  [-8.06531589e-03 -4.48737573e-03  7.07146362e-04 ... -3.89408902e-04\n",
      "   -4.16505383e-03  2.17046728e-03]]\n",
      "\n",
      " [[-1.34662818e-03 -1.89134560e-03 -4.54956247e-03 ...  4.39635478e-03\n",
      "   -4.53026826e-03 -4.09550266e-03]\n",
      "  [-1.98810687e-03 -2.37327698e-03 -6.09024614e-03 ...  6.16290933e-03\n",
      "   -6.66437997e-03 -4.96655609e-03]\n",
      "  [-2.25946982e-03 -2.43824278e-03 -6.38845377e-03 ...  6.81390008e-03\n",
      "   -7.87186343e-03 -4.76364233e-03]\n",
      "  ...\n",
      "  [-7.19166920e-03 -3.88988410e-03  2.86235288e-03 ...  1.75408088e-04\n",
      "    5.51090343e-04 -2.33250344e-03]\n",
      "  [-5.03254822e-04 -7.41365412e-03 -5.60149667e-04 ... -2.19694641e-03\n",
      "    8.50201491e-03  1.12370518e-03]\n",
      "  [ 1.30207464e-03 -1.85042317e-03  4.41605924e-03 ...  3.65503831e-03\n",
      "    3.23387515e-03  6.45679655e-03]]\n",
      "\n",
      " [[-1.34662818e-03 -1.89134560e-03 -4.54956247e-03 ...  4.39635478e-03\n",
      "   -4.53026826e-03 -4.09550266e-03]\n",
      "  [ 1.27547304e-04 -7.64107844e-03  2.14360422e-03 ... -4.53507667e-03\n",
      "   -7.53466226e-03 -8.50353274e-04]\n",
      "  [ 5.89777716e-03 -2.07284093e-03 -1.84602162e-03 ... -1.35429995e-03\n",
      "   -3.06852465e-03  8.72339995e-04]\n",
      "  ...\n",
      "  [ 8.97466578e-03  2.69310502e-03  4.97884490e-03 ... -3.41989379e-03\n",
      "   -5.81199815e-03  1.74498779e-03]\n",
      "  [-4.39150585e-03 -2.21605552e-03  1.03799505e-02 ...  4.16115159e-03\n",
      "    6.31897384e-03  4.01800871e-03]\n",
      "  [-4.47262404e-03 -2.46624928e-03  3.07707395e-03 ...  7.70575600e-03\n",
      "   -1.56560272e-04 -4.05467534e-03]]], shape=(128, 120, 84), dtype=float32)\n"
     ]
    }
   ],
   "source": [
    "for input, output in dataset.take(1):\n",
    "    ex_batch_pred = model(input)\n",
    "    print(ex_batch_pred.shape)\n",
    "    print(ex_batch_pred)"
   ]
  },
  {
   "cell_type": "code",
   "execution_count": 62,
   "id": "52c31a9e-f419-483a-89ea-0bba55054124",
   "metadata": {},
   "outputs": [],
   "source": [
    "sam_ind = tf.random.categorical(ex_batch_pred[0], num_samples=1)"
   ]
  },
  {
   "cell_type": "code",
   "execution_count": 63,
   "id": "b58ce637-9dd1-403a-be04-de1d47d32619",
   "metadata": {},
   "outputs": [
    {
     "data": {
      "text/plain": [
       "<tf.Tensor: shape=(120, 1), dtype=int64, numpy=\n",
       "array([[56],\n",
       "       [32],\n",
       "       [24],\n",
       "       [78],\n",
       "       [51],\n",
       "       [71],\n",
       "       [19],\n",
       "       [34],\n",
       "       [54],\n",
       "       [39],\n",
       "       [61],\n",
       "       [40],\n",
       "       [44],\n",
       "       [40],\n",
       "       [66],\n",
       "       [26],\n",
       "       [81],\n",
       "       [28],\n",
       "       [38],\n",
       "       [ 3],\n",
       "       [81],\n",
       "       [54],\n",
       "       [50],\n",
       "       [54],\n",
       "       [56],\n",
       "       [ 0],\n",
       "       [27],\n",
       "       [13],\n",
       "       [55],\n",
       "       [43],\n",
       "       [61],\n",
       "       [ 2],\n",
       "       [56],\n",
       "       [60],\n",
       "       [27],\n",
       "       [66],\n",
       "       [20],\n",
       "       [ 5],\n",
       "       [49],\n",
       "       [67],\n",
       "       [71],\n",
       "       [39],\n",
       "       [ 0],\n",
       "       [80],\n",
       "       [26],\n",
       "       [65],\n",
       "       [ 8],\n",
       "       [74],\n",
       "       [ 2],\n",
       "       [64],\n",
       "       [14],\n",
       "       [20],\n",
       "       [26],\n",
       "       [ 9],\n",
       "       [30],\n",
       "       [62],\n",
       "       [32],\n",
       "       [70],\n",
       "       [ 4],\n",
       "       [ 1],\n",
       "       [41],\n",
       "       [72],\n",
       "       [38],\n",
       "       [52],\n",
       "       [60],\n",
       "       [57],\n",
       "       [49],\n",
       "       [23],\n",
       "       [37],\n",
       "       [ 1],\n",
       "       [49],\n",
       "       [59],\n",
       "       [49],\n",
       "       [14],\n",
       "       [33],\n",
       "       [70],\n",
       "       [31],\n",
       "       [54],\n",
       "       [37],\n",
       "       [72],\n",
       "       [31],\n",
       "       [34],\n",
       "       [73],\n",
       "       [15],\n",
       "       [75],\n",
       "       [65],\n",
       "       [81],\n",
       "       [14],\n",
       "       [56],\n",
       "       [79],\n",
       "       [14],\n",
       "       [40],\n",
       "       [65],\n",
       "       [60],\n",
       "       [59],\n",
       "       [67],\n",
       "       [63],\n",
       "       [ 3],\n",
       "       [42],\n",
       "       [52],\n",
       "       [32],\n",
       "       [38],\n",
       "       [ 8],\n",
       "       [48],\n",
       "       [24],\n",
       "       [43],\n",
       "       [73],\n",
       "       [55],\n",
       "       [62],\n",
       "       [81],\n",
       "       [ 6],\n",
       "       [40],\n",
       "       [42],\n",
       "       [22],\n",
       "       [35],\n",
       "       [39],\n",
       "       [22],\n",
       "       [23],\n",
       "       [56],\n",
       "       [48]], dtype=int64)>"
      ]
     },
     "execution_count": 63,
     "metadata": {},
     "output_type": "execute_result"
    }
   ],
   "source": [
    "sam_ind"
   ]
  },
  {
   "cell_type": "code",
   "execution_count": 64,
   "id": "ee80b95a-3e35-4b81-a877-47d83a5ace26",
   "metadata": {},
   "outputs": [],
   "source": [
    "sam_ind = tf.squeeze(sam_ind)"
   ]
  },
  {
   "cell_type": "code",
   "execution_count": 65,
   "id": "8585e141-bc58-477e-83f3-fe7a0640e52b",
   "metadata": {},
   "outputs": [
    {
     "data": {
      "text/plain": [
       "<tf.Tensor: shape=(120,), dtype=int64, numpy=\n",
       "array([56, 32, 24, 78, 51, 71, 19, 34, 54, 39, 61, 40, 44, 40, 66, 26, 81,\n",
       "       28, 38,  3, 81, 54, 50, 54, 56,  0, 27, 13, 55, 43, 61,  2, 56, 60,\n",
       "       27, 66, 20,  5, 49, 67, 71, 39,  0, 80, 26, 65,  8, 74,  2, 64, 14,\n",
       "       20, 26,  9, 30, 62, 32, 70,  4,  1, 41, 72, 38, 52, 60, 57, 49, 23,\n",
       "       37,  1, 49, 59, 49, 14, 33, 70, 31, 54, 37, 72, 31, 34, 73, 15, 75,\n",
       "       65, 81, 14, 56, 79, 14, 40, 65, 60, 59, 67, 63,  3, 42, 52, 32, 38,\n",
       "        8, 48, 24, 43, 73, 55, 62, 81,  6, 40, 42, 22, 35, 39, 22, 23, 56,\n",
       "       48], dtype=int64)>"
      ]
     },
     "execution_count": 65,
     "metadata": {},
     "output_type": "execute_result"
    }
   ],
   "source": [
    "sam_ind"
   ]
  },
  {
   "cell_type": "code",
   "execution_count": 66,
   "id": "89151771-3706-4c00-9d76-04e5f6a66fb3",
   "metadata": {},
   "outputs": [
    {
     "data": {
      "text/plain": [
       "array(['a', 'G', '>', 'w', 'Z', 'p', '8', 'I', '_', 'N', 'f', 'O', 'S',\n",
       "       'O', 'k', 'A', 'z', 'C', 'M', '\"', 'z', '_', 'Y', '_', 'a', '\\n',\n",
       "       'B', '2', '`', 'R', 'f', '!', 'a', 'e', 'B', 'k', '9', \"'\", 'X',\n",
       "       'l', 'p', 'N', '\\n', 'y', 'A', 'j', ',', 's', '!', 'i', '3', '9',\n",
       "       'A', '-', 'E', 'g', 'G', 'o', '&', ' ', 'P', 'q', 'M', '[', 'e',\n",
       "       'b', 'X', '<', 'L', ' ', 'X', 'd', 'X', '3', 'H', 'o', 'F', '_',\n",
       "       'L', 'q', 'F', 'I', 'r', '4', 't', 'j', 'z', '3', 'a', 'x', '3',\n",
       "       'O', 'j', 'e', 'd', 'l', 'h', '\"', 'Q', '[', 'G', 'M', ',', 'W',\n",
       "       '>', 'R', 'r', '`', 'g', 'z', '(', 'O', 'Q', ';', 'J', 'N', ';',\n",
       "       '<', 'a', 'W'], dtype='<U1')"
      ]
     },
     "execution_count": 66,
     "metadata": {},
     "output_type": "execute_result"
    }
   ],
   "source": [
    "ind_to_text[sam_ind]"
   ]
  },
  {
   "cell_type": "code",
   "execution_count": null,
   "id": "e2bdb53c-ab04-490f-9e85-58b61cfa8184",
   "metadata": {},
   "outputs": [],
   "source": []
  }
 ],
 "metadata": {
  "kernelspec": {
   "display_name": "Python 3 (ipykernel)",
   "language": "python",
   "name": "python3"
  },
  "language_info": {
   "codemirror_mode": {
    "name": "ipython",
    "version": 3
   },
   "file_extension": ".py",
   "mimetype": "text/x-python",
   "name": "python",
   "nbconvert_exporter": "python",
   "pygments_lexer": "ipython3",
   "version": "3.10.12"
  }
 },
 "nbformat": 4,
 "nbformat_minor": 5
}
