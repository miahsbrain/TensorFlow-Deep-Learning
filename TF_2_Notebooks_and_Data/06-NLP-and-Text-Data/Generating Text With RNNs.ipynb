{
 "cells": [
  {
   "cell_type": "code",
   "execution_count": 1,
   "id": "4bc793b2-9527-493b-9ee9-e17aa6fc987b",
   "metadata": {},
   "outputs": [
    {
     "name": "stdout",
     "output_type": "stream",
     "text": [
      "WARNING:tensorflow:From C:\\Users\\Nagant\\anaconda3\\envs\\mytfenv\\lib\\site-packages\\keras\\src\\losses.py:2976: The name tf.losses.sparse_softmax_cross_entropy is deprecated. Please use tf.compat.v1.losses.sparse_softmax_cross_entropy instead.\n",
      "\n"
     ]
    }
   ],
   "source": [
    "import pandas as pd\n",
    "import numpy as np\n",
    "import matplotlib.pyplot as plt\n",
    "import tensorflow as tf"
   ]
  },
  {
   "cell_type": "code",
   "execution_count": 2,
   "id": "b2d8a2e0-5be0-40e4-843d-f6dae6a9b8cd",
   "metadata": {},
   "outputs": [],
   "source": [
    "path_to_file = 'shakespeare.txt'"
   ]
  },
  {
   "cell_type": "code",
   "execution_count": 3,
   "id": "4ccbe419-c3f3-4d87-8851-accf4262b070",
   "metadata": {},
   "outputs": [],
   "source": [
    "text = open(path_to_file, 'r').read()"
   ]
  },
  {
   "cell_type": "code",
   "execution_count": 4,
   "id": "36e1bb97-4142-45d8-9830-3b4d2bf8ae0f",
   "metadata": {},
   "outputs": [
    {
     "data": {
      "text/plain": [
       "\"converted are\\n  From his low tract and look another way:\\n    So thou, thy self out-going in thy noon:\\n    Unlooked on diest unless thou get a son.\\n\\n\\n                     8\\n  Music to hear, why hear'st thou music sadly?\\n  Sweets with sweets war not, joy delights in joy:\\n  Why lov'st thou that which t\""
      ]
     },
     "execution_count": 4,
     "metadata": {},
     "output_type": "execute_result"
    }
   ],
   "source": [
    "text[4500:4800]"
   ]
  },
  {
   "cell_type": "code",
   "execution_count": 5,
   "id": "f1972ed0-2047-41d9-a091-734573b2d838",
   "metadata": {},
   "outputs": [],
   "source": [
    "vocab = sorted(set(text))"
   ]
  },
  {
   "cell_type": "code",
   "execution_count": 6,
   "id": "418dfe45-af66-415b-b5af-6009b3f6bcbf",
   "metadata": {},
   "outputs": [
    {
     "data": {
      "text/plain": [
       "84"
      ]
     },
     "execution_count": 6,
     "metadata": {},
     "output_type": "execute_result"
    }
   ],
   "source": [
    "len(vocab)"
   ]
  },
  {
   "cell_type": "code",
   "execution_count": 7,
   "id": "5d96cb1a-0ab9-4b77-be92-9a54354a460c",
   "metadata": {},
   "outputs": [
    {
     "name": "stdout",
     "output_type": "stream",
     "text": [
      "(0, '\\n')\n",
      "(1, ' ')\n",
      "(2, '!')\n",
      "(3, '\"')\n",
      "(4, '&')\n",
      "(5, \"'\")\n",
      "(6, '(')\n",
      "(7, ')')\n",
      "(8, ',')\n",
      "(9, '-')\n",
      "(10, '.')\n",
      "(11, '0')\n",
      "(12, '1')\n",
      "(13, '2')\n",
      "(14, '3')\n",
      "(15, '4')\n",
      "(16, '5')\n",
      "(17, '6')\n",
      "(18, '7')\n",
      "(19, '8')\n",
      "(20, '9')\n",
      "(21, ':')\n",
      "(22, ';')\n",
      "(23, '<')\n",
      "(24, '>')\n",
      "(25, '?')\n",
      "(26, 'A')\n",
      "(27, 'B')\n",
      "(28, 'C')\n",
      "(29, 'D')\n",
      "(30, 'E')\n",
      "(31, 'F')\n",
      "(32, 'G')\n",
      "(33, 'H')\n",
      "(34, 'I')\n",
      "(35, 'J')\n",
      "(36, 'K')\n",
      "(37, 'L')\n",
      "(38, 'M')\n",
      "(39, 'N')\n",
      "(40, 'O')\n",
      "(41, 'P')\n",
      "(42, 'Q')\n",
      "(43, 'R')\n",
      "(44, 'S')\n",
      "(45, 'T')\n",
      "(46, 'U')\n",
      "(47, 'V')\n",
      "(48, 'W')\n",
      "(49, 'X')\n",
      "(50, 'Y')\n",
      "(51, 'Z')\n",
      "(52, '[')\n",
      "(53, ']')\n",
      "(54, '_')\n",
      "(55, '`')\n",
      "(56, 'a')\n",
      "(57, 'b')\n",
      "(58, 'c')\n",
      "(59, 'd')\n",
      "(60, 'e')\n",
      "(61, 'f')\n",
      "(62, 'g')\n",
      "(63, 'h')\n",
      "(64, 'i')\n",
      "(65, 'j')\n",
      "(66, 'k')\n",
      "(67, 'l')\n",
      "(68, 'm')\n",
      "(69, 'n')\n",
      "(70, 'o')\n",
      "(71, 'p')\n",
      "(72, 'q')\n",
      "(73, 'r')\n",
      "(74, 's')\n",
      "(75, 't')\n",
      "(76, 'u')\n",
      "(77, 'v')\n",
      "(78, 'w')\n",
      "(79, 'x')\n",
      "(80, 'y')\n",
      "(81, 'z')\n",
      "(82, '|')\n",
      "(83, '}')\n"
     ]
    }
   ],
   "source": [
    "for pair in enumerate(vocab):\n",
    "    print(pair)"
   ]
  },
  {
   "cell_type": "code",
   "execution_count": 8,
   "id": "518c0568-bc59-4f8e-9317-009e8532c98a",
   "metadata": {},
   "outputs": [],
   "source": [
    "char_to_ind = {char:ind for ind, char in enumerate(vocab)}"
   ]
  },
  {
   "cell_type": "code",
   "execution_count": 9,
   "id": "6e44f50a-448f-41c1-a105-2d159fd31c98",
   "metadata": {},
   "outputs": [
    {
     "data": {
      "text/plain": [
       "{'\\n': 0,\n",
       " ' ': 1,\n",
       " '!': 2,\n",
       " '\"': 3,\n",
       " '&': 4,\n",
       " \"'\": 5,\n",
       " '(': 6,\n",
       " ')': 7,\n",
       " ',': 8,\n",
       " '-': 9,\n",
       " '.': 10,\n",
       " '0': 11,\n",
       " '1': 12,\n",
       " '2': 13,\n",
       " '3': 14,\n",
       " '4': 15,\n",
       " '5': 16,\n",
       " '6': 17,\n",
       " '7': 18,\n",
       " '8': 19,\n",
       " '9': 20,\n",
       " ':': 21,\n",
       " ';': 22,\n",
       " '<': 23,\n",
       " '>': 24,\n",
       " '?': 25,\n",
       " 'A': 26,\n",
       " 'B': 27,\n",
       " 'C': 28,\n",
       " 'D': 29,\n",
       " 'E': 30,\n",
       " 'F': 31,\n",
       " 'G': 32,\n",
       " 'H': 33,\n",
       " 'I': 34,\n",
       " 'J': 35,\n",
       " 'K': 36,\n",
       " 'L': 37,\n",
       " 'M': 38,\n",
       " 'N': 39,\n",
       " 'O': 40,\n",
       " 'P': 41,\n",
       " 'Q': 42,\n",
       " 'R': 43,\n",
       " 'S': 44,\n",
       " 'T': 45,\n",
       " 'U': 46,\n",
       " 'V': 47,\n",
       " 'W': 48,\n",
       " 'X': 49,\n",
       " 'Y': 50,\n",
       " 'Z': 51,\n",
       " '[': 52,\n",
       " ']': 53,\n",
       " '_': 54,\n",
       " '`': 55,\n",
       " 'a': 56,\n",
       " 'b': 57,\n",
       " 'c': 58,\n",
       " 'd': 59,\n",
       " 'e': 60,\n",
       " 'f': 61,\n",
       " 'g': 62,\n",
       " 'h': 63,\n",
       " 'i': 64,\n",
       " 'j': 65,\n",
       " 'k': 66,\n",
       " 'l': 67,\n",
       " 'm': 68,\n",
       " 'n': 69,\n",
       " 'o': 70,\n",
       " 'p': 71,\n",
       " 'q': 72,\n",
       " 'r': 73,\n",
       " 's': 74,\n",
       " 't': 75,\n",
       " 'u': 76,\n",
       " 'v': 77,\n",
       " 'w': 78,\n",
       " 'x': 79,\n",
       " 'y': 80,\n",
       " 'z': 81,\n",
       " '|': 82,\n",
       " '}': 83}"
      ]
     },
     "execution_count": 9,
     "metadata": {},
     "output_type": "execute_result"
    }
   ],
   "source": [
    "char_to_ind"
   ]
  },
  {
   "cell_type": "code",
   "execution_count": 10,
   "id": "0f02109f-fad3-4fe7-91d9-485be8ae30d1",
   "metadata": {},
   "outputs": [],
   "source": [
    "ind_to_char = np.array(vocab)"
   ]
  },
  {
   "cell_type": "code",
   "execution_count": 11,
   "id": "08a81199-8bf2-4fb8-bf57-570f9a2aa620",
   "metadata": {},
   "outputs": [
    {
     "data": {
      "text/plain": [
       "array(['\\n', ' ', '!', '\"', '&', \"'\", '(', ')', ',', '-', '.', '0', '1',\n",
       "       '2', '3', '4', '5', '6', '7', '8', '9', ':', ';', '<', '>', '?',\n",
       "       'A', 'B', 'C', 'D', 'E', 'F', 'G', 'H', 'I', 'J', 'K', 'L', 'M',\n",
       "       'N', 'O', 'P', 'Q', 'R', 'S', 'T', 'U', 'V', 'W', 'X', 'Y', 'Z',\n",
       "       '[', ']', '_', '`', 'a', 'b', 'c', 'd', 'e', 'f', 'g', 'h', 'i',\n",
       "       'j', 'k', 'l', 'm', 'n', 'o', 'p', 'q', 'r', 's', 't', 'u', 'v',\n",
       "       'w', 'x', 'y', 'z', '|', '}'], dtype='<U1')"
      ]
     },
     "execution_count": 11,
     "metadata": {},
     "output_type": "execute_result"
    }
   ],
   "source": [
    "ind_to_char"
   ]
  },
  {
   "cell_type": "code",
   "execution_count": 12,
   "id": "b440d024-057e-4dd6-9d9c-48608bf607ef",
   "metadata": {},
   "outputs": [],
   "source": [
    "encoded_text = np.array([char_to_ind[c] for c in text])"
   ]
  },
  {
   "cell_type": "code",
   "execution_count": 13,
   "id": "44dc766b-bbdc-4b70-8a2a-0f09394666f3",
   "metadata": {},
   "outputs": [
    {
     "data": {
      "text/plain": [
       "\"\\n                     1\\n  From fairest creatures we desire increase,\\n  That thereby beauty's rose might never die,\\n  But as the riper should by time decease,\\n  His tender heir might bear his memory:\\n  But thou contracted to thine own bright eyes,\\n  Feed'st thy light's flame with self-substantial fuel,\\n  Making a famine where abundance lies,\\n  Thy self thy foe, to thy sweet self too cruel:\\n  Thou that art now the world's fresh ornament,\\n  And only herald to the gaudy spring,\\n  Within thine own bu\""
      ]
     },
     "execution_count": 13,
     "metadata": {},
     "output_type": "execute_result"
    }
   ],
   "source": [
    "text[:500]"
   ]
  },
  {
   "cell_type": "code",
   "execution_count": 14,
   "id": "f030bed2-2854-4139-ad35-3b5e7809f0b0",
   "metadata": {},
   "outputs": [
    {
     "data": {
      "text/plain": [
       "array([ 0,  1,  1,  1,  1,  1,  1,  1,  1,  1,  1,  1,  1,  1,  1,  1,  1,\n",
       "        1,  1,  1,  1,  1, 12,  0,  1,  1, 31, 73, 70, 68,  1, 61, 56, 64,\n",
       "       73, 60, 74, 75,  1, 58, 73, 60, 56, 75, 76, 73, 60, 74,  1, 78, 60,\n",
       "        1, 59, 60, 74, 64, 73, 60,  1, 64, 69, 58, 73, 60, 56, 74, 60,  8,\n",
       "        0,  1,  1, 45, 63, 56, 75,  1, 75, 63, 60, 73, 60, 57, 80,  1, 57,\n",
       "       60, 56, 76, 75, 80,  5, 74,  1, 73, 70, 74, 60,  1, 68, 64, 62, 63,\n",
       "       75,  1, 69, 60, 77, 60, 73,  1, 59, 64, 60,  8,  0,  1,  1, 27, 76,\n",
       "       75,  1, 56, 74,  1, 75, 63, 60,  1, 73, 64, 71, 60, 73,  1, 74, 63,\n",
       "       70, 76, 67, 59,  1, 57, 80,  1, 75, 64, 68, 60,  1, 59, 60, 58, 60,\n",
       "       56, 74, 60,  8,  0,  1,  1, 33, 64, 74,  1, 75, 60, 69, 59, 60, 73,\n",
       "        1, 63, 60, 64, 73,  1, 68, 64, 62, 63, 75,  1, 57, 60, 56, 73,  1,\n",
       "       63, 64, 74,  1, 68, 60, 68, 70, 73, 80, 21,  0,  1,  1, 27, 76, 75,\n",
       "        1, 75, 63, 70, 76,  1, 58, 70, 69, 75, 73, 56, 58, 75, 60, 59,  1,\n",
       "       75, 70,  1, 75, 63, 64, 69, 60,  1, 70, 78, 69,  1, 57, 73, 64, 62,\n",
       "       63, 75,  1, 60, 80, 60, 74,  8,  0,  1,  1, 31, 60, 60, 59,  5, 74,\n",
       "       75,  1, 75, 63, 80,  1, 67, 64, 62, 63, 75,  5, 74,  1, 61, 67, 56,\n",
       "       68, 60,  1, 78, 64, 75, 63,  1, 74, 60, 67, 61,  9, 74, 76, 57, 74,\n",
       "       75, 56, 69, 75, 64, 56, 67,  1, 61, 76, 60, 67,  8,  0,  1,  1, 38,\n",
       "       56, 66, 64, 69, 62,  1, 56,  1, 61, 56, 68, 64, 69, 60,  1, 78, 63,\n",
       "       60, 73, 60,  1, 56, 57, 76, 69, 59, 56, 69, 58, 60,  1, 67, 64, 60,\n",
       "       74,  8,  0,  1,  1, 45, 63, 80,  1, 74, 60, 67, 61,  1, 75, 63, 80,\n",
       "        1, 61, 70, 60,  8,  1, 75, 70,  1, 75, 63, 80,  1, 74, 78, 60, 60,\n",
       "       75,  1, 74, 60, 67, 61,  1, 75, 70, 70,  1, 58, 73, 76, 60, 67, 21,\n",
       "        0,  1,  1, 45, 63, 70, 76,  1, 75, 63, 56, 75,  1, 56, 73, 75,  1,\n",
       "       69, 70, 78,  1, 75, 63, 60,  1, 78, 70, 73, 67, 59,  5, 74,  1, 61,\n",
       "       73, 60, 74, 63,  1, 70, 73, 69, 56, 68, 60, 69, 75,  8,  0,  1,  1,\n",
       "       26, 69, 59,  1, 70, 69, 67, 80,  1, 63, 60, 73, 56, 67, 59,  1, 75,\n",
       "       70,  1, 75, 63, 60,  1, 62, 56, 76, 59, 80,  1, 74, 71, 73, 64, 69,\n",
       "       62,  8,  0,  1,  1, 48, 64, 75, 63, 64, 69,  1, 75, 63, 64, 69, 60,\n",
       "        1, 70, 78, 69,  1, 57, 76])"
      ]
     },
     "execution_count": 14,
     "metadata": {},
     "output_type": "execute_result"
    }
   ],
   "source": [
    "encoded_text[:500]"
   ]
  },
  {
   "cell_type": "code",
   "execution_count": 15,
   "id": "15dbb304-da4f-45c7-b389-d5de742b3f4b",
   "metadata": {},
   "outputs": [],
   "source": [
    "line = 'From fairest creatures we desire increase'"
   ]
  },
  {
   "cell_type": "code",
   "execution_count": 16,
   "id": "fa3a0aba-01cb-4369-9def-df23efa6e036",
   "metadata": {},
   "outputs": [
    {
     "data": {
      "text/plain": [
       "41"
      ]
     },
     "execution_count": 16,
     "metadata": {},
     "output_type": "execute_result"
    }
   ],
   "source": [
    "len(line)"
   ]
  },
  {
   "cell_type": "code",
   "execution_count": 17,
   "id": "e74567c0-955e-4ab9-9265-1eefb7e09eb6",
   "metadata": {},
   "outputs": [],
   "source": [
    "lines = '''From fairest creatures we desire increase,\\n  That thereby beauty's rose might never die,\\n  But as the riper should by time decease'''"
   ]
  },
  {
   "cell_type": "code",
   "execution_count": 18,
   "id": "ff193525-8221-4fc7-a712-4ae80675563b",
   "metadata": {},
   "outputs": [
    {
     "data": {
      "text/plain": [
       "130"
      ]
     },
     "execution_count": 18,
     "metadata": {},
     "output_type": "execute_result"
    }
   ],
   "source": [
    "len(lines)"
   ]
  },
  {
   "cell_type": "code",
   "execution_count": 19,
   "id": "e3ed476a-66ac-4a04-9cb0-a51bd9c7a233",
   "metadata": {},
   "outputs": [],
   "source": [
    "seq_len = 120"
   ]
  },
  {
   "cell_type": "code",
   "execution_count": 20,
   "id": "5eac2df3-6561-416c-92ae-e5419ac717a6",
   "metadata": {},
   "outputs": [],
   "source": [
    "total_num_seq = len(text) // (seq_len + 1)"
   ]
  },
  {
   "cell_type": "code",
   "execution_count": 21,
   "id": "06f9f056-5f0f-4049-a3ef-8c84fa21e5df",
   "metadata": {},
   "outputs": [
    {
     "data": {
      "text/plain": [
       "45005"
      ]
     },
     "execution_count": 21,
     "metadata": {},
     "output_type": "execute_result"
    }
   ],
   "source": [
    "total_num_seq"
   ]
  },
  {
   "cell_type": "code",
   "execution_count": 22,
   "id": "d20ea159-bac0-49c4-a110-de3dc9affb8c",
   "metadata": {},
   "outputs": [],
   "source": [
    "char_dataset = tf.data.Dataset.from_tensor_slices(encoded_text)"
   ]
  },
  {
   "cell_type": "code",
   "execution_count": 23,
   "id": "a8d15dcd-925e-44ae-9cfa-6ef369912805",
   "metadata": {},
   "outputs": [
    {
     "data": {
      "text/plain": [
       "tensorflow.python.data.ops.from_tensor_slices_op._TensorSliceDataset"
      ]
     },
     "execution_count": 23,
     "metadata": {},
     "output_type": "execute_result"
    }
   ],
   "source": [
    "type(char_dataset)"
   ]
  },
  {
   "cell_type": "code",
   "execution_count": 24,
   "id": "0bb86dbb-f5e4-4d57-8684-2a85a9cf5147",
   "metadata": {},
   "outputs": [],
   "source": [
    "# for item in char_dataset.take(500):\n",
    "#     print(ind_to_char[item.numpy()])"
   ]
  },
  {
   "cell_type": "code",
   "execution_count": 25,
   "id": "2a26f33d-930f-4e0a-9dd1-a99cceff9afc",
   "metadata": {},
   "outputs": [],
   "source": [
    "sequences = char_dataset.batch(batch_size=seq_len+1, drop_remainder=True)"
   ]
  },
  {
   "cell_type": "code",
   "execution_count": 26,
   "id": "7148ab3d-68df-42eb-86c3-497d97c3868e",
   "metadata": {},
   "outputs": [],
   "source": [
    "# for seq in sequences:\n",
    "#     print(seq.numpy())"
   ]
  },
  {
   "cell_type": "code",
   "execution_count": 27,
   "id": "35d51da7-05d9-4fd1-a1c7-107a01f7ba38",
   "metadata": {},
   "outputs": [],
   "source": [
    "def create_seq_targets(seq):\n",
    "    input_text = seq[:-1]\n",
    "    target_text = seq[1:]\n",
    "    return input_text, target_text"
   ]
  },
  {
   "cell_type": "code",
   "execution_count": 28,
   "id": "c3768b09-dcd9-4431-a5c1-1f4e60b137c9",
   "metadata": {},
   "outputs": [],
   "source": [
    "dataset = sequences.map(create_seq_targets)"
   ]
  },
  {
   "cell_type": "code",
   "execution_count": 29,
   "id": "9ce5ef28-c591-47fd-807b-2126f84ab7ea",
   "metadata": {},
   "outputs": [
    {
     "name": "stdout",
     "output_type": "stream",
     "text": [
      "[ 0  1  1  1  1  1  1  1  1  1  1  1  1  1  1  1  1  1  1  1  1  1 12  0\n",
      "  1  1 31 73 70 68  1 61 56 64 73 60 74 75  1 58 73 60 56 75 76 73 60 74\n",
      "  1 78 60  1 59 60 74 64 73 60  1 64 69 58 73 60 56 74 60  8  0  1  1 45\n",
      " 63 56 75  1 75 63 60 73 60 57 80  1 57 60 56 76 75 80  5 74  1 73 70 74\n",
      " 60  1 68 64 62 63 75  1 69 60 77 60 73  1 59 64 60  8  0  1  1 27 76 75]\n",
      "\n",
      "                     1\n",
      "  From fairest creatures we desire increase,\n",
      "  That thereby beauty's rose might never die,\n",
      "  But\n",
      "\n",
      "[ 1  1  1  1  1  1  1  1  1  1  1  1  1  1  1  1  1  1  1  1  1 12  0  1\n",
      "  1 31 73 70 68  1 61 56 64 73 60 74 75  1 58 73 60 56 75 76 73 60 74  1\n",
      " 78 60  1 59 60 74 64 73 60  1 64 69 58 73 60 56 74 60  8  0  1  1 45 63\n",
      " 56 75  1 75 63 60 73 60 57 80  1 57 60 56 76 75 80  5 74  1 73 70 74 60\n",
      "  1 68 64 62 63 75  1 69 60 77 60 73  1 59 64 60  8  0  1  1 27 76 75  1]\n",
      "                     1\n",
      "  From fairest creatures we desire increase,\n",
      "  That thereby beauty's rose might never die,\n",
      "  But \n"
     ]
    }
   ],
   "source": [
    "for input_text, target_text in dataset.take(1):\n",
    "    print(input_text.numpy())\n",
    "    print(\"\".join(ind_to_char[input_text.numpy()]))\n",
    "    print()\n",
    "    print(target_text.numpy())\n",
    "    print(\"\".join(ind_to_char[target_text.numpy()]))"
   ]
  },
  {
   "cell_type": "code",
   "execution_count": 30,
   "id": "21483a89-1c71-4a71-afbd-101609d8b63b",
   "metadata": {},
   "outputs": [],
   "source": [
    "batch_size = 128"
   ]
  },
  {
   "cell_type": "code",
   "execution_count": 31,
   "id": "7a84a7c4-b5b7-42c5-8bdc-7ac03dc35615",
   "metadata": {},
   "outputs": [],
   "source": [
    "buffer_size = 10000\n",
    "dataset = dataset.shuffle(buffer_size=buffer_size).batch(batch_size=batch_size, drop_remainder=True)"
   ]
  },
  {
   "cell_type": "code",
   "execution_count": 32,
   "id": "eae8e0b3-0074-47ff-aaeb-b73f840b7fd2",
   "metadata": {},
   "outputs": [
    {
     "data": {
      "text/plain": [
       "<_BatchDataset element_spec=(TensorSpec(shape=(128, 120), dtype=tf.int32, name=None), TensorSpec(shape=(128, 120), dtype=tf.int32, name=None))>"
      ]
     },
     "execution_count": 32,
     "metadata": {},
     "output_type": "execute_result"
    }
   ],
   "source": [
    "dataset"
   ]
  },
  {
   "cell_type": "code",
   "execution_count": 33,
   "id": "0f39ce51-ad31-48f6-b9c5-95db90caad23",
   "metadata": {},
   "outputs": [
    {
     "data": {
      "text/plain": [
       "<_BatchDataset element_spec=TensorSpec(shape=(121,), dtype=tf.int32, name=None)>"
      ]
     },
     "execution_count": 33,
     "metadata": {},
     "output_type": "execute_result"
    }
   ],
   "source": [
    "sequences"
   ]
  },
  {
   "cell_type": "code",
   "execution_count": 34,
   "id": "c496e36c-b250-4caa-92d7-b77a7cb074bf",
   "metadata": {},
   "outputs": [],
   "source": [
    "vocab_size = len(vocab)"
   ]
  },
  {
   "cell_type": "code",
   "execution_count": 35,
   "id": "5270d716-d0f8-4b21-918d-29c8cea704a8",
   "metadata": {},
   "outputs": [
    {
     "data": {
      "text/plain": [
       "84"
      ]
     },
     "execution_count": 35,
     "metadata": {},
     "output_type": "execute_result"
    }
   ],
   "source": [
    "vocab_size"
   ]
  },
  {
   "cell_type": "code",
   "execution_count": 36,
   "id": "a9f95c49-f73e-401b-8103-5d8b3067c089",
   "metadata": {},
   "outputs": [],
   "source": [
    "embed_dim = 64"
   ]
  },
  {
   "cell_type": "code",
   "execution_count": 37,
   "id": "d90f81ca-59e0-4901-b64b-29f0a6e5152d",
   "metadata": {},
   "outputs": [],
   "source": [
    "rnn_neurons = 1026"
   ]
  },
  {
   "cell_type": "code",
   "execution_count": 38,
   "id": "06463a45-d577-46f3-980d-eb314ebfb546",
   "metadata": {},
   "outputs": [],
   "source": [
    "from tensorflow.keras.losses import sparse_categorical_crossentropy"
   ]
  },
  {
   "cell_type": "code",
   "execution_count": 39,
   "id": "fdbc5fe9-c933-4d13-a1bd-2feed47b9a0f",
   "metadata": {},
   "outputs": [
    {
     "name": "stdout",
     "output_type": "stream",
     "text": [
      "Help on function sparse_categorical_crossentropy in module keras.src.losses:\n",
      "\n",
      "sparse_categorical_crossentropy(y_true, y_pred, from_logits=False, axis=-1, ignore_class=None)\n",
      "    Computes the sparse categorical crossentropy loss.\n",
      "    \n",
      "    Standalone usage:\n",
      "    \n",
      "    >>> y_true = [1, 2]\n",
      "    >>> y_pred = [[0.05, 0.95, 0], [0.1, 0.8, 0.1]]\n",
      "    >>> loss = tf.keras.losses.sparse_categorical_crossentropy(y_true, y_pred)\n",
      "    >>> assert loss.shape == (2,)\n",
      "    >>> loss.numpy()\n",
      "    array([0.0513, 2.303], dtype=float32)\n",
      "    \n",
      "    >>> y_true = [[[ 0,  2],\n",
      "    ...            [-1, -1]],\n",
      "    ...           [[ 0,  2],\n",
      "    ...            [-1, -1]]]\n",
      "    >>> y_pred = [[[[1.0, 0.0, 0.0], [0.0, 0.0, 1.0]],\n",
      "    ...             [[0.2, 0.5, 0.3], [0.0, 1.0, 0.0]]],\n",
      "    ...           [[[1.0, 0.0, 0.0], [0.0, 0.5, 0.5]],\n",
      "    ...            [[0.2, 0.5, 0.3], [0.0, 1.0, 0.0]]]]\n",
      "    >>> loss = tf.keras.losses.sparse_categorical_crossentropy(\n",
      "    ...   y_true, y_pred, ignore_class=-1)\n",
      "    >>> loss.numpy()\n",
      "    array([[[2.3841855e-07, 2.3841855e-07],\n",
      "            [0.0000000e+00, 0.0000000e+00]],\n",
      "           [[2.3841855e-07, 6.9314730e-01],\n",
      "            [0.0000000e+00, 0.0000000e+00]]], dtype=float32)\n",
      "    \n",
      "    Args:\n",
      "        y_true: Ground truth values.\n",
      "        y_pred: The predicted values.\n",
      "        from_logits: Whether `y_pred` is expected to be a logits tensor. By\n",
      "            default, we assume that `y_pred` encodes a probability distribution.\n",
      "        axis: Defaults to -1. The dimension along which the entropy is\n",
      "            computed.\n",
      "        ignore_class: Optional integer. The ID of a class to be ignored during\n",
      "            loss computation. This is useful, for example, in segmentation\n",
      "            problems featuring a \"void\" class (commonly -1 or 255) in\n",
      "            segmentation maps. By default (`ignore_class=None`), all classes are\n",
      "            considered.\n",
      "    \n",
      "    Returns:\n",
      "        Sparse categorical crossentropy loss value.\n",
      "\n"
     ]
    }
   ],
   "source": [
    "help(sparse_categorical_crossentropy)"
   ]
  },
  {
   "cell_type": "code",
   "execution_count": 40,
   "id": "926229b5-53f2-4940-bf78-dbfb35984eff",
   "metadata": {},
   "outputs": [],
   "source": [
    "def sparse_cat_loss(y_true, y_pred):\n",
    "    return sparse_categorical_crossentropy(y_true, y_pred, from_logits=True)"
   ]
  },
  {
   "cell_type": "code",
   "execution_count": 41,
   "id": "fabed49d-31a7-438e-b116-e1b3ea0e1923",
   "metadata": {},
   "outputs": [],
   "source": [
    "layers = tf.keras.layers"
   ]
  },
  {
   "cell_type": "code",
   "execution_count": 42,
   "id": "f24ac7a4-6c17-43cf-a0c1-9d5b882df969",
   "metadata": {},
   "outputs": [],
   "source": [
    "def create_model(vocab_size, embed_dim, rnn_neurons, batch_size):\n",
    "    model = tf.keras.models.Sequential([\n",
    "        layers.Embedding(vocab_size, embed_dim, batch_input_shape=(batch_size, None)),\n",
    "        layers.GRU(rnn_neurons, return_sequences=True, stateful=True, recurrent_initializer='glorot_uniform'),\n",
    "        layers.Dense(vocab_size),\n",
    "    ])\n",
    "\n",
    "    model.compile(optimizer='adam', loss=sparse_cat_loss)\n",
    "    return model"
   ]
  },
  {
   "cell_type": "code",
   "execution_count": 43,
   "id": "32a1bdd2-1992-4a0c-88d8-69643d2c93d9",
   "metadata": {},
   "outputs": [
    {
     "name": "stdout",
     "output_type": "stream",
     "text": [
      "WARNING:tensorflow:From C:\\Users\\Nagant\\anaconda3\\envs\\mytfenv\\lib\\site-packages\\keras\\src\\backend.py:873: The name tf.get_default_graph is deprecated. Please use tf.compat.v1.get_default_graph instead.\n",
      "\n",
      "WARNING:tensorflow:From C:\\Users\\Nagant\\anaconda3\\envs\\mytfenv\\lib\\site-packages\\keras\\src\\optimizers\\__init__.py:309: The name tf.train.Optimizer is deprecated. Please use tf.compat.v1.train.Optimizer instead.\n",
      "\n"
     ]
    }
   ],
   "source": [
    "model = create_model(vocab_size=vocab_size, embed_dim=embed_dim, rnn_neurons=rnn_neurons, batch_size=batch_size)"
   ]
  },
  {
   "cell_type": "code",
   "execution_count": 44,
   "id": "e2db5978-c6eb-41f9-b5ee-6e34795d8f8f",
   "metadata": {},
   "outputs": [],
   "source": [
    "from tensorflow.keras.models import Sequential\n",
    "from tensorflow.keras.layers import LSTM,Dense,Embedding,Dropout,GRU"
   ]
  },
  {
   "cell_type": "code",
   "execution_count": 45,
   "id": "e53ec741-7bba-4a84-8696-a62c35cf6dc7",
   "metadata": {},
   "outputs": [],
   "source": [
    "# def create_model(vocab_size, embed_dim, rnn_neurons, batch_size):\n",
    "#     model = Sequential()\n",
    "#     model.add(Embedding(vocab_size, embed_dim,batch_input_shape=[batch_size, None]))\n",
    "#     model.add(GRU(rnn_neurons,return_sequences=True,stateful=True,recurrent_initializer='glorot_uniform'))\n",
    "#     # Final Dense Layer to Predict\n",
    "#     model.add(Dense(vocab_size))\n",
    "#     model.compile(optimizer='adam', loss=sparse_cat_loss) \n",
    "#     return model"
   ]
  },
  {
   "cell_type": "code",
   "execution_count": 46,
   "id": "7eef8ac9-473e-490f-880a-dd9967f3216b",
   "metadata": {},
   "outputs": [],
   "source": [
    "# model = create_model(\n",
    "#   vocab_size = vocab_size,\n",
    "#   embed_dim=embed_dim,\n",
    "#   rnn_neurons=rnn_neurons,\n",
    "#   batch_size=batch_size)"
   ]
  },
  {
   "cell_type": "code",
   "execution_count": 47,
   "id": "a5db57b3-3245-4389-bc54-4c59a195b90a",
   "metadata": {},
   "outputs": [
    {
     "name": "stdout",
     "output_type": "stream",
     "text": [
      "Model: \"sequential\"\n",
      "_________________________________________________________________\n",
      " Layer (type)                Output Shape              Param #   \n",
      "=================================================================\n",
      " embedding (Embedding)       (128, None, 64)           5376      \n",
      "                                                                 \n",
      " gru (GRU)                   (128, None, 1026)         3361176   \n",
      "                                                                 \n",
      " dense (Dense)               (128, None, 84)           86268     \n",
      "                                                                 \n",
      "=================================================================\n",
      "Total params: 3452820 (13.17 MB)\n",
      "Trainable params: 3452820 (13.17 MB)\n",
      "Non-trainable params: 0 (0.00 Byte)\n",
      "_________________________________________________________________\n"
     ]
    }
   ],
   "source": [
    "model.summary()"
   ]
  },
  {
   "cell_type": "code",
   "execution_count": 48,
   "id": "8acf90de-c255-486f-a9e2-374b1f245b59",
   "metadata": {},
   "outputs": [
    {
     "name": "stdout",
     "output_type": "stream",
     "text": [
      "(128, 120, 84)\n"
     ]
    }
   ],
   "source": [
    "for input_example_batch, target_example_batch in dataset.take(1):\n",
    "    example_batch_predictions = model(input_example_batch)\n",
    "    print(example_batch_predictions.shape)"
   ]
  },
  {
   "cell_type": "code",
   "execution_count": 49,
   "id": "6d3a8bb6-ebbc-421d-a2f5-1fb5da626b94",
   "metadata": {},
   "outputs": [
    {
     "data": {
      "text/plain": [
       "<tf.Tensor: shape=(120, 84), dtype=float32, numpy=\n",
       "array([[ 0.00359692,  0.00491967,  0.00057709, ...,  0.00090896,\n",
       "        -0.00756292, -0.00149596],\n",
       "       [-0.00192104,  0.00403598, -0.00299216, ..., -0.00203615,\n",
       "        -0.00466292, -0.00123754],\n",
       "       [-0.00469626, -0.00157854,  0.00072341, ..., -0.00065703,\n",
       "         0.0023482 ,  0.00277515],\n",
       "       ...,\n",
       "       [ 0.00543924,  0.00690742, -0.00461551, ...,  0.0033547 ,\n",
       "         0.00311006,  0.00502965],\n",
       "       [ 0.00452722,  0.00249963, -0.00145936, ...,  0.00326443,\n",
       "         0.00650464,  0.00205807],\n",
       "       [ 0.005733  , -0.00159403, -0.00152334, ...,  0.00507656,\n",
       "         0.00636812,  0.00164072]], dtype=float32)>"
      ]
     },
     "execution_count": 49,
     "metadata": {},
     "output_type": "execute_result"
    }
   ],
   "source": [
    "example_batch_predictions[0]"
   ]
  },
  {
   "cell_type": "code",
   "execution_count": 50,
   "id": "441462f9-0167-488e-8c01-0bfc28bfb9dc",
   "metadata": {},
   "outputs": [],
   "source": [
    "sample_indices = tf.random.categorical(example_batch_predictions[0], num_samples=1)"
   ]
  },
  {
   "cell_type": "code",
   "execution_count": 51,
   "id": "0757501e-e7da-4d83-8d7e-167fef577082",
   "metadata": {},
   "outputs": [
    {
     "data": {
      "text/plain": [
       "<tf.Tensor: shape=(120, 1), dtype=int64, numpy=\n",
       "array([[62],\n",
       "       [ 5],\n",
       "       [26],\n",
       "       [50],\n",
       "       [ 1],\n",
       "       [43],\n",
       "       [28],\n",
       "       [47],\n",
       "       [ 3],\n",
       "       [79],\n",
       "       [ 2],\n",
       "       [24],\n",
       "       [ 6],\n",
       "       [56],\n",
       "       [36],\n",
       "       [38],\n",
       "       [55],\n",
       "       [17],\n",
       "       [25],\n",
       "       [13],\n",
       "       [64],\n",
       "       [38],\n",
       "       [ 2],\n",
       "       [20],\n",
       "       [20],\n",
       "       [57],\n",
       "       [29],\n",
       "       [13],\n",
       "       [82],\n",
       "       [ 3],\n",
       "       [26],\n",
       "       [40],\n",
       "       [47],\n",
       "       [69],\n",
       "       [42],\n",
       "       [52],\n",
       "       [46],\n",
       "       [ 9],\n",
       "       [ 0],\n",
       "       [83],\n",
       "       [ 5],\n",
       "       [74],\n",
       "       [30],\n",
       "       [71],\n",
       "       [31],\n",
       "       [56],\n",
       "       [49],\n",
       "       [43],\n",
       "       [23],\n",
       "       [36],\n",
       "       [45],\n",
       "       [12],\n",
       "       [66],\n",
       "       [29],\n",
       "       [73],\n",
       "       [14],\n",
       "       [49],\n",
       "       [32],\n",
       "       [54],\n",
       "       [23],\n",
       "       [22],\n",
       "       [ 8],\n",
       "       [27],\n",
       "       [ 3],\n",
       "       [79],\n",
       "       [35],\n",
       "       [68],\n",
       "       [ 8],\n",
       "       [ 4],\n",
       "       [62],\n",
       "       [ 4],\n",
       "       [81],\n",
       "       [82],\n",
       "       [44],\n",
       "       [ 1],\n",
       "       [37],\n",
       "       [38],\n",
       "       [83],\n",
       "       [60],\n",
       "       [78],\n",
       "       [64],\n",
       "       [31],\n",
       "       [24],\n",
       "       [53],\n",
       "       [39],\n",
       "       [34],\n",
       "       [50],\n",
       "       [46],\n",
       "       [57],\n",
       "       [65],\n",
       "       [82],\n",
       "       [16],\n",
       "       [ 2],\n",
       "       [33],\n",
       "       [34],\n",
       "       [13],\n",
       "       [72],\n",
       "       [34],\n",
       "       [73],\n",
       "       [13],\n",
       "       [11],\n",
       "       [17],\n",
       "       [44],\n",
       "       [23],\n",
       "       [82],\n",
       "       [30],\n",
       "       [26],\n",
       "       [83],\n",
       "       [14],\n",
       "       [42],\n",
       "       [46],\n",
       "       [45],\n",
       "       [13],\n",
       "       [23],\n",
       "       [71],\n",
       "       [82],\n",
       "       [15],\n",
       "       [27],\n",
       "       [50],\n",
       "       [79]], dtype=int64)>"
      ]
     },
     "execution_count": 51,
     "metadata": {},
     "output_type": "execute_result"
    }
   ],
   "source": [
    "sample_indices"
   ]
  },
  {
   "cell_type": "code",
   "execution_count": 52,
   "id": "5f2f3f3a-e42b-4db0-8c04-4698daa2b7ca",
   "metadata": {},
   "outputs": [],
   "source": [
    "sample_indices = tf.squeeze(sample_indices, axis=-1)"
   ]
  },
  {
   "cell_type": "code",
   "execution_count": 53,
   "id": "8d709a14-7094-45e0-bd55-ad6916877027",
   "metadata": {},
   "outputs": [
    {
     "data": {
      "text/plain": [
       "<tf.Tensor: shape=(120,), dtype=int64, numpy=\n",
       "array([62,  5, 26, 50,  1, 43, 28, 47,  3, 79,  2, 24,  6, 56, 36, 38, 55,\n",
       "       17, 25, 13, 64, 38,  2, 20, 20, 57, 29, 13, 82,  3, 26, 40, 47, 69,\n",
       "       42, 52, 46,  9,  0, 83,  5, 74, 30, 71, 31, 56, 49, 43, 23, 36, 45,\n",
       "       12, 66, 29, 73, 14, 49, 32, 54, 23, 22,  8, 27,  3, 79, 35, 68,  8,\n",
       "        4, 62,  4, 81, 82, 44,  1, 37, 38, 83, 60, 78, 64, 31, 24, 53, 39,\n",
       "       34, 50, 46, 57, 65, 82, 16,  2, 33, 34, 13, 72, 34, 73, 13, 11, 17,\n",
       "       44, 23, 82, 30, 26, 83, 14, 42, 46, 45, 13, 23, 71, 82, 15, 27, 50,\n",
       "       79], dtype=int64)>"
      ]
     },
     "execution_count": 53,
     "metadata": {},
     "output_type": "execute_result"
    }
   ],
   "source": [
    "sample_indices"
   ]
  },
  {
   "cell_type": "code",
   "execution_count": 54,
   "id": "07503bc9-8d5f-413e-908b-80fa3ba2b3dd",
   "metadata": {},
   "outputs": [
    {
     "data": {
      "text/plain": [
       "array(['g', \"'\", 'A', 'Y', ' ', 'R', 'C', 'V', '\"', 'x', '!', '>', '(',\n",
       "       'a', 'K', 'M', '`', '6', '?', '2', 'i', 'M', '!', '9', '9', 'b',\n",
       "       'D', '2', '|', '\"', 'A', 'O', 'V', 'n', 'Q', '[', 'U', '-', '\\n',\n",
       "       '}', \"'\", 's', 'E', 'p', 'F', 'a', 'X', 'R', '<', 'K', 'T', '1',\n",
       "       'k', 'D', 'r', '3', 'X', 'G', '_', '<', ';', ',', 'B', '\"', 'x',\n",
       "       'J', 'm', ',', '&', 'g', '&', 'z', '|', 'S', ' ', 'L', 'M', '}',\n",
       "       'e', 'w', 'i', 'F', '>', ']', 'N', 'I', 'Y', 'U', 'b', 'j', '|',\n",
       "       '5', '!', 'H', 'I', '2', 'q', 'I', 'r', '2', '0', '6', 'S', '<',\n",
       "       '|', 'E', 'A', '}', '3', 'Q', 'U', 'T', '2', '<', 'p', '|', '4',\n",
       "       'B', 'Y', 'x'], dtype='<U1')"
      ]
     },
     "execution_count": 54,
     "metadata": {},
     "output_type": "execute_result"
    }
   ],
   "source": [
    "ind_to_char[sample_indices]"
   ]
  },
  {
   "cell_type": "code",
   "execution_count": 55,
   "id": "ff8236ca-5e42-4660-bc81-5faadc5a4527",
   "metadata": {},
   "outputs": [],
   "source": [
    "epochs = 30"
   ]
  },
  {
   "cell_type": "code",
   "execution_count": 56,
   "id": "c4ab3414-2573-4b0e-8667-e1235fe6c842",
   "metadata": {},
   "outputs": [],
   "source": [
    "# model.fit(dataset, epochs=epochs)"
   ]
  },
  {
   "cell_type": "markdown",
   "id": "1f092373-5423-4389-a2e1-3fc152ca09cb",
   "metadata": {},
   "source": [
    "# Evaluating the model"
   ]
  },
  {
   "cell_type": "code",
   "execution_count": 57,
   "id": "ee142be6-19af-4b37-a518-f762e2c82106",
   "metadata": {},
   "outputs": [],
   "source": [
    "model = create_model(vocab_size=vocab_size, embed_dim=embed_dim, rnn_neurons=rnn_neurons, batch_size=1)\n",
    "\n",
    "model.load_weights('shakespeare_gen.h5')\n",
    "\n",
    "model.build(tf.TensorShape((1, None)))"
   ]
  },
  {
   "cell_type": "code",
   "execution_count": 58,
   "id": "9cae3f2c-8c17-4b88-8ff7-1357277a4e60",
   "metadata": {},
   "outputs": [
    {
     "name": "stdout",
     "output_type": "stream",
     "text": [
      "Model: \"sequential_1\"\n",
      "_________________________________________________________________\n",
      " Layer (type)                Output Shape              Param #   \n",
      "=================================================================\n",
      " embedding_1 (Embedding)     (1, None, 64)             5376      \n",
      "                                                                 \n",
      " gru_1 (GRU)                 (1, None, 1026)           3361176   \n",
      "                                                                 \n",
      " dense_1 (Dense)             (1, None, 84)             86268     \n",
      "                                                                 \n",
      "=================================================================\n",
      "Total params: 3452820 (13.17 MB)\n",
      "Trainable params: 3452820 (13.17 MB)\n",
      "Non-trainable params: 0 (0.00 Byte)\n",
      "_________________________________________________________________\n"
     ]
    }
   ],
   "source": [
    "model.summary()"
   ]
  },
  {
   "cell_type": "code",
   "execution_count": 64,
   "id": "dfc324c2-3245-4c88-b6e3-f99bcfab3976",
   "metadata": {},
   "outputs": [],
   "source": [
    "def generate_text(model, start_seed, gen_size=500, temp=1.0):\n",
    "    \n",
    "    num_generate = gen_size\n",
    "    \n",
    "    input_eval = [char_to_ind[s] for s in start_seed]\n",
    "\n",
    "    # print(input_eval)\n",
    "\n",
    "    input_eval = tf.expand_dims(input_eval, axis=0)\n",
    "\n",
    "    # print(input_eval)\n",
    "\n",
    "    text_generated = []\n",
    "\n",
    "    temperature = temp\n",
    "\n",
    "    model.reset_states()\n",
    "\n",
    "    for i in range(num_generate):\n",
    "        predictions = model(input_eval)\n",
    "        # print(predictions)\n",
    "        predictions = tf.squeeze(predictions, axis=0)\n",
    "        # print(predictions)\n",
    "        predictions = predictions / temperature\n",
    "        predicted_id = tf.random.categorical(predictions, num_samples=1)\n",
    "        print(predicted_id)\n",
    "        predicted_id = predicted_id[-1, 0].numpy()\n",
    "        print(predicted_id)\n",
    "        input_eval = tf.expand_dims([predicted_id], axis=0)\n",
    "        text_generated.append(ind_to_char[predicted_id])\n",
    "    \n",
    "    return(start_seed + ''.join(text_generated))"
   ]
  },
  {
   "cell_type": "code",
   "execution_count": 65,
   "id": "362be7b6-2728-4688-aa45-22a250247759",
   "metadata": {},
   "outputs": [
    {
     "name": "stdout",
     "output_type": "stream",
     "text": [
      "tf.Tensor(\n",
      "[[46]\n",
      " [28]\n",
      " [37]\n",
      " [49]\n",
      " [43]\n",
      " [28]], shape=(6, 1), dtype=int64)\n",
      "28\n",
      "tf.Tensor([[10]], shape=(1, 1), dtype=int64)\n",
      "10\n",
      "tf.Tensor([[1]], shape=(1, 1), dtype=int64)\n",
      "1\n",
      "tf.Tensor([[38]], shape=(1, 1), dtype=int64)\n",
      "38\n",
      "tf.Tensor([[80]], shape=(1, 1), dtype=int64)\n",
      "80\n",
      "JULIETC. My\n"
     ]
    }
   ],
   "source": [
    "print(generate_text(model, 'JULIET', gen_size=5))"
   ]
  },
  {
   "cell_type": "code",
   "execution_count": null,
   "id": "2e3046bc-95fc-4eef-aa4c-738c2762892a",
   "metadata": {},
   "outputs": [],
   "source": []
  }
 ],
 "metadata": {
  "kernelspec": {
   "display_name": "Python 3 (ipykernel)",
   "language": "python",
   "name": "python3"
  },
  "language_info": {
   "codemirror_mode": {
    "name": "ipython",
    "version": 3
   },
   "file_extension": ".py",
   "mimetype": "text/x-python",
   "name": "python",
   "nbconvert_exporter": "python",
   "pygments_lexer": "ipython3",
   "version": "3.10.12"
  }
 },
 "nbformat": 4,
 "nbformat_minor": 5
}
