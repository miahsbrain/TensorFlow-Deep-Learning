{
 "cells": [
  {
   "cell_type": "code",
   "execution_count": 1,
   "id": "eed9c5a9-573b-49ec-9368-2379694b84c0",
   "metadata": {},
   "outputs": [
    {
     "name": "stdout",
     "output_type": "stream",
     "text": [
      "WARNING:tensorflow:From C:\\Users\\Nagant\\anaconda3\\envs\\mytfenv\\lib\\site-packages\\keras\\src\\losses.py:2976: The name tf.losses.sparse_softmax_cross_entropy is deprecated. Please use tf.compat.v1.losses.sparse_softmax_cross_entropy instead.\n",
      "\n"
     ]
    }
   ],
   "source": [
    "import pandas as pd\n",
    "import numpy as np\n",
    "import tensorflow as tf"
   ]
  },
  {
   "cell_type": "code",
   "execution_count": 2,
   "id": "4ee5a802-1836-4a19-bc23-381eaae31b5e",
   "metadata": {},
   "outputs": [],
   "source": [
    "text = open('shakespeare.txt', 'r').read()"
   ]
  },
  {
   "cell_type": "code",
   "execution_count": 3,
   "id": "626965e5-bf20-451f-9e9d-f9bf084d3606",
   "metadata": {},
   "outputs": [
    {
     "data": {
      "text/plain": [
       "\"\\n                     1\\n  From fairest creatures we desire increase,\\n  That thereby beauty's rose might never die,\\n  But as the riper should by time decease,\\n  His tender heir might bear his memory:\\n  But thou contracted to thine own bright eyes,\\n  Feed'st thy light's flame with self-substantial fuel,\\n  Making a famine where abundance lies,\\n  Thy self thy foe, to thy sweet self too cruel:\\n  Thou that art now the world's fresh ornament,\\n  And only herald to the gaudy spring,\\n  Within thine own bu\""
      ]
     },
     "execution_count": 3,
     "metadata": {},
     "output_type": "execute_result"
    }
   ],
   "source": [
    "text[:500]"
   ]
  },
  {
   "cell_type": "code",
   "execution_count": 4,
   "id": "afebe228-6a29-4832-93bd-05ec773961ff",
   "metadata": {},
   "outputs": [],
   "source": [
    "vocab = sorted(set(text))"
   ]
  },
  {
   "cell_type": "code",
   "execution_count": 5,
   "id": "d2fecfba-f121-4da4-9065-5ceecc537d93",
   "metadata": {},
   "outputs": [
    {
     "data": {
      "text/plain": [
       "['\\n',\n",
       " ' ',\n",
       " '!',\n",
       " '\"',\n",
       " '&',\n",
       " \"'\",\n",
       " '(',\n",
       " ')',\n",
       " ',',\n",
       " '-',\n",
       " '.',\n",
       " '0',\n",
       " '1',\n",
       " '2',\n",
       " '3',\n",
       " '4',\n",
       " '5',\n",
       " '6',\n",
       " '7',\n",
       " '8',\n",
       " '9',\n",
       " ':',\n",
       " ';',\n",
       " '<',\n",
       " '>',\n",
       " '?',\n",
       " 'A',\n",
       " 'B',\n",
       " 'C',\n",
       " 'D',\n",
       " 'E',\n",
       " 'F',\n",
       " 'G',\n",
       " 'H',\n",
       " 'I',\n",
       " 'J',\n",
       " 'K',\n",
       " 'L',\n",
       " 'M',\n",
       " 'N',\n",
       " 'O',\n",
       " 'P',\n",
       " 'Q',\n",
       " 'R',\n",
       " 'S',\n",
       " 'T',\n",
       " 'U',\n",
       " 'V',\n",
       " 'W',\n",
       " 'X',\n",
       " 'Y',\n",
       " 'Z',\n",
       " '[',\n",
       " ']',\n",
       " '_',\n",
       " '`',\n",
       " 'a',\n",
       " 'b',\n",
       " 'c',\n",
       " 'd',\n",
       " 'e',\n",
       " 'f',\n",
       " 'g',\n",
       " 'h',\n",
       " 'i',\n",
       " 'j',\n",
       " 'k',\n",
       " 'l',\n",
       " 'm',\n",
       " 'n',\n",
       " 'o',\n",
       " 'p',\n",
       " 'q',\n",
       " 'r',\n",
       " 's',\n",
       " 't',\n",
       " 'u',\n",
       " 'v',\n",
       " 'w',\n",
       " 'x',\n",
       " 'y',\n",
       " 'z',\n",
       " '|',\n",
       " '}']"
      ]
     },
     "execution_count": 5,
     "metadata": {},
     "output_type": "execute_result"
    }
   ],
   "source": [
    "vocab"
   ]
  },
  {
   "cell_type": "code",
   "execution_count": 6,
   "id": "2d962eda-d0ff-4a59-9d10-24aee6be97e5",
   "metadata": {},
   "outputs": [],
   "source": [
    "char_to_ind = {char:ind for ind, char in enumerate(vocab)}"
   ]
  },
  {
   "cell_type": "code",
   "execution_count": 7,
   "id": "7e6bd0d4-b84d-4c13-9b82-6ec758889f14",
   "metadata": {},
   "outputs": [
    {
     "data": {
      "text/plain": [
       "{'\\n': 0,\n",
       " ' ': 1,\n",
       " '!': 2,\n",
       " '\"': 3,\n",
       " '&': 4,\n",
       " \"'\": 5,\n",
       " '(': 6,\n",
       " ')': 7,\n",
       " ',': 8,\n",
       " '-': 9,\n",
       " '.': 10,\n",
       " '0': 11,\n",
       " '1': 12,\n",
       " '2': 13,\n",
       " '3': 14,\n",
       " '4': 15,\n",
       " '5': 16,\n",
       " '6': 17,\n",
       " '7': 18,\n",
       " '8': 19,\n",
       " '9': 20,\n",
       " ':': 21,\n",
       " ';': 22,\n",
       " '<': 23,\n",
       " '>': 24,\n",
       " '?': 25,\n",
       " 'A': 26,\n",
       " 'B': 27,\n",
       " 'C': 28,\n",
       " 'D': 29,\n",
       " 'E': 30,\n",
       " 'F': 31,\n",
       " 'G': 32,\n",
       " 'H': 33,\n",
       " 'I': 34,\n",
       " 'J': 35,\n",
       " 'K': 36,\n",
       " 'L': 37,\n",
       " 'M': 38,\n",
       " 'N': 39,\n",
       " 'O': 40,\n",
       " 'P': 41,\n",
       " 'Q': 42,\n",
       " 'R': 43,\n",
       " 'S': 44,\n",
       " 'T': 45,\n",
       " 'U': 46,\n",
       " 'V': 47,\n",
       " 'W': 48,\n",
       " 'X': 49,\n",
       " 'Y': 50,\n",
       " 'Z': 51,\n",
       " '[': 52,\n",
       " ']': 53,\n",
       " '_': 54,\n",
       " '`': 55,\n",
       " 'a': 56,\n",
       " 'b': 57,\n",
       " 'c': 58,\n",
       " 'd': 59,\n",
       " 'e': 60,\n",
       " 'f': 61,\n",
       " 'g': 62,\n",
       " 'h': 63,\n",
       " 'i': 64,\n",
       " 'j': 65,\n",
       " 'k': 66,\n",
       " 'l': 67,\n",
       " 'm': 68,\n",
       " 'n': 69,\n",
       " 'o': 70,\n",
       " 'p': 71,\n",
       " 'q': 72,\n",
       " 'r': 73,\n",
       " 's': 74,\n",
       " 't': 75,\n",
       " 'u': 76,\n",
       " 'v': 77,\n",
       " 'w': 78,\n",
       " 'x': 79,\n",
       " 'y': 80,\n",
       " 'z': 81,\n",
       " '|': 82,\n",
       " '}': 83}"
      ]
     },
     "execution_count": 7,
     "metadata": {},
     "output_type": "execute_result"
    }
   ],
   "source": [
    "char_to_ind"
   ]
  },
  {
   "cell_type": "code",
   "execution_count": 8,
   "id": "19ab684c-96b6-40b4-bc84-27f41d324847",
   "metadata": {},
   "outputs": [],
   "source": [
    "ind_to_char = np.array(vocab)"
   ]
  },
  {
   "cell_type": "code",
   "execution_count": 9,
   "id": "85758b0f-a48a-4069-8f10-a0869e8b1161",
   "metadata": {},
   "outputs": [
    {
     "data": {
      "text/plain": [
       "array(['\\n', ' ', '!', '\"', '&', \"'\", '(', ')', ',', '-', '.', '0', '1',\n",
       "       '2', '3', '4', '5', '6', '7', '8', '9', ':', ';', '<', '>', '?',\n",
       "       'A', 'B', 'C', 'D', 'E', 'F', 'G', 'H', 'I', 'J', 'K', 'L', 'M',\n",
       "       'N', 'O', 'P', 'Q', 'R', 'S', 'T', 'U', 'V', 'W', 'X', 'Y', 'Z',\n",
       "       '[', ']', '_', '`', 'a', 'b', 'c', 'd', 'e', 'f', 'g', 'h', 'i',\n",
       "       'j', 'k', 'l', 'm', 'n', 'o', 'p', 'q', 'r', 's', 't', 'u', 'v',\n",
       "       'w', 'x', 'y', 'z', '|', '}'], dtype='<U1')"
      ]
     },
     "execution_count": 9,
     "metadata": {},
     "output_type": "execute_result"
    }
   ],
   "source": [
    "ind_to_char"
   ]
  },
  {
   "cell_type": "code",
   "execution_count": 10,
   "id": "25043e8a-80f4-4b18-b956-33e205d46b25",
   "metadata": {},
   "outputs": [],
   "source": [
    "encoded_text = np.array([char_to_ind[c] for c in text])"
   ]
  },
  {
   "cell_type": "code",
   "execution_count": 11,
   "id": "6fe13ebf-b946-4dfc-815c-713e7a05aaf1",
   "metadata": {},
   "outputs": [
    {
     "data": {
      "text/plain": [
       "array([ 0,  1,  1,  1,  1,  1,  1,  1,  1,  1,  1,  1,  1,  1,  1,  1,  1,\n",
       "        1,  1,  1,  1,  1, 12,  0,  1,  1, 31, 73, 70, 68,  1, 61, 56, 64,\n",
       "       73, 60, 74, 75,  1, 58, 73, 60, 56, 75, 76, 73, 60, 74,  1, 78, 60,\n",
       "        1, 59, 60, 74, 64, 73, 60,  1, 64, 69, 58, 73, 60, 56, 74, 60,  8,\n",
       "        0,  1,  1, 45, 63, 56, 75,  1, 75, 63, 60, 73, 60, 57, 80,  1, 57,\n",
       "       60, 56, 76, 75, 80,  5, 74,  1, 73, 70, 74, 60,  1, 68, 64, 62, 63,\n",
       "       75,  1, 69, 60, 77, 60, 73,  1, 59, 64, 60,  8,  0,  1,  1, 27, 76,\n",
       "       75,  1, 56, 74,  1, 75, 63, 60,  1, 73, 64, 71, 60, 73,  1, 74, 63,\n",
       "       70, 76, 67, 59,  1, 57, 80,  1, 75, 64, 68, 60,  1, 59, 60, 58, 60,\n",
       "       56, 74, 60,  8,  0,  1,  1, 33, 64, 74,  1, 75, 60, 69, 59, 60, 73,\n",
       "        1, 63, 60, 64, 73,  1, 68, 64, 62, 63, 75,  1, 57, 60, 56, 73,  1,\n",
       "       63, 64, 74,  1, 68, 60, 68, 70, 73, 80, 21,  0,  1,  1, 27, 76, 75,\n",
       "        1, 75, 63, 70, 76,  1, 58, 70, 69, 75, 73, 56, 58, 75, 60, 59,  1,\n",
       "       75, 70,  1, 75, 63, 64, 69, 60,  1, 70, 78, 69,  1, 57, 73, 64, 62,\n",
       "       63, 75,  1, 60, 80, 60, 74,  8,  0,  1,  1, 31, 60, 60, 59,  5, 74,\n",
       "       75,  1, 75, 63, 80,  1, 67, 64, 62, 63, 75,  5, 74,  1, 61, 67, 56,\n",
       "       68, 60,  1, 78, 64, 75, 63,  1, 74, 60, 67, 61,  9, 74, 76, 57, 74,\n",
       "       75, 56, 69, 75, 64, 56, 67,  1, 61, 76, 60, 67,  8,  0,  1,  1, 38,\n",
       "       56, 66, 64, 69, 62,  1, 56,  1, 61, 56, 68, 64, 69, 60,  1, 78, 63,\n",
       "       60, 73, 60,  1, 56, 57, 76, 69, 59, 56, 69, 58, 60,  1, 67, 64, 60,\n",
       "       74,  8,  0,  1,  1, 45, 63, 80,  1, 74, 60, 67, 61,  1, 75, 63, 80,\n",
       "        1, 61, 70, 60,  8,  1, 75, 70,  1, 75, 63, 80,  1, 74, 78, 60, 60,\n",
       "       75,  1, 74, 60, 67, 61,  1, 75, 70, 70,  1, 58, 73, 76, 60, 67, 21,\n",
       "        0,  1,  1, 45, 63, 70, 76,  1, 75, 63, 56, 75,  1, 56, 73, 75,  1,\n",
       "       69, 70, 78,  1, 75, 63, 60,  1, 78, 70, 73, 67, 59,  5, 74,  1, 61,\n",
       "       73, 60, 74, 63,  1, 70, 73, 69, 56, 68, 60, 69, 75,  8,  0,  1,  1,\n",
       "       26, 69, 59,  1, 70, 69, 67, 80,  1, 63, 60, 73, 56, 67, 59,  1, 75,\n",
       "       70,  1, 75, 63, 60,  1, 62, 56, 76, 59, 80,  1, 74, 71, 73, 64, 69,\n",
       "       62,  8,  0,  1,  1, 48, 64, 75, 63, 64, 69,  1, 75, 63, 64, 69, 60,\n",
       "        1, 70, 78, 69,  1, 57, 76])"
      ]
     },
     "execution_count": 11,
     "metadata": {},
     "output_type": "execute_result"
    }
   ],
   "source": [
    "encoded_text[:500]"
   ]
  },
  {
   "cell_type": "code",
   "execution_count": 13,
   "id": "87c86c5b-668d-46b9-9264-efd548b4e195",
   "metadata": {},
   "outputs": [
    {
     "data": {
      "text/plain": [
       "\"\\n                     1\\n  From fairest creatures we desire increase,\\n  That thereby beauty's rose might never die,\\n  But as the riper should by time decease,\\n  His tender heir might bear his memory:\\n  But thou contracted to thine own bright eyes,\\n  Feed'st thy light's flame with self-substantial fuel,\\n  Making a famine where abundance lies,\\n  Thy self thy foe, to thy sweet self too cruel:\\n  Thou that art now the world's fresh ornament,\\n  And only herald to the gaudy spring,\\n  Within thine own bu\""
      ]
     },
     "execution_count": 13,
     "metadata": {},
     "output_type": "execute_result"
    }
   ],
   "source": [
    "text[:500]"
   ]
  },
  {
   "cell_type": "code",
   "execution_count": 14,
   "id": "c5ec2f6e-9973-46fe-a727-bb6ee9fd1861",
   "metadata": {},
   "outputs": [],
   "source": [
    "line = 'From fairest creatures we desire increase'"
   ]
  },
  {
   "cell_type": "code",
   "execution_count": 15,
   "id": "e54ef61c-db37-4c16-8f4a-8311998fb0ae",
   "metadata": {},
   "outputs": [
    {
     "data": {
      "text/plain": [
       "41"
      ]
     },
     "execution_count": 15,
     "metadata": {},
     "output_type": "execute_result"
    }
   ],
   "source": [
    "len(line)"
   ]
  },
  {
   "cell_type": "code",
   "execution_count": 18,
   "id": "fc7fe213-24e1-4867-87ce-d934d141b135",
   "metadata": {},
   "outputs": [],
   "source": [
    "lines = \"From fairest creatures we desire increase,\\n  That thereby beauty's rose might never die,\\n  But as the riper should by time decease\""
   ]
  },
  {
   "cell_type": "code",
   "execution_count": 19,
   "id": "f494ea0a-21ce-4c5e-8cc5-57df50b67248",
   "metadata": {},
   "outputs": [
    {
     "data": {
      "text/plain": [
       "130"
      ]
     },
     "execution_count": 19,
     "metadata": {},
     "output_type": "execute_result"
    }
   ],
   "source": [
    "len(lines)"
   ]
  },
  {
   "cell_type": "code",
   "execution_count": 20,
   "id": "509d4792-aefd-49f1-8c48-78003034a51d",
   "metadata": {},
   "outputs": [],
   "source": [
    "seq_length = 120"
   ]
  },
  {
   "cell_type": "code",
   "execution_count": 21,
   "id": "c84921a5-1887-4fa9-acb5-b451525393b1",
   "metadata": {},
   "outputs": [],
   "source": [
    "num_of_sequences = len(text) // (seq_length + 1)"
   ]
  },
  {
   "cell_type": "code",
   "execution_count": 22,
   "id": "509d70f0-7d03-4c69-86c6-7d8c52973538",
   "metadata": {},
   "outputs": [
    {
     "data": {
      "text/plain": [
       "45005"
      ]
     },
     "execution_count": 22,
     "metadata": {},
     "output_type": "execute_result"
    }
   ],
   "source": [
    "num_of_sequences"
   ]
  },
  {
   "cell_type": "code",
   "execution_count": 23,
   "id": "b3ea9582-7305-46cd-98e0-da0de40a0d42",
   "metadata": {},
   "outputs": [],
   "source": [
    "dataset = tf.data.Dataset.from_tensor_slices(encoded_text)"
   ]
  },
  {
   "cell_type": "code",
   "execution_count": 24,
   "id": "48a222e5-82eb-4131-bf5c-c1df96e53df5",
   "metadata": {},
   "outputs": [],
   "source": [
    "sequences = dataset.batch(batch_size=(seq_length+1), drop_remainder=True)"
   ]
  },
  {
   "cell_type": "code",
   "execution_count": 25,
   "id": "bf1b4094-fd4c-4d5c-ab0d-660b131a7cdf",
   "metadata": {},
   "outputs": [
    {
     "name": "stdout",
     "output_type": "stream",
     "text": [
      "tf.Tensor(\n",
      "[ 0  1  1  1  1  1  1  1  1  1  1  1  1  1  1  1  1  1  1  1  1  1 12  0\n",
      "  1  1 31 73 70 68  1 61 56 64 73 60 74 75  1 58 73 60 56 75 76 73 60 74\n",
      "  1 78 60  1 59 60 74 64 73 60  1 64 69 58 73 60 56 74 60  8  0  1  1 45\n",
      " 63 56 75  1 75 63 60 73 60 57 80  1 57 60 56 76 75 80  5 74  1 73 70 74\n",
      " 60  1 68 64 62 63 75  1 69 60 77 60 73  1 59 64 60  8  0  1  1 27 76 75\n",
      "  1], shape=(121,), dtype=int32)\n"
     ]
    }
   ],
   "source": [
    "for seq in sequences.take(1):\n",
    "    print(seq)"
   ]
  },
  {
   "cell_type": "code",
   "execution_count": 26,
   "id": "63fcd320-a8be-413f-a752-93280293e776",
   "metadata": {},
   "outputs": [],
   "source": [
    "def create_seq_targets(seq):\n",
    "    input = seq[:-1]\n",
    "    output = seq[1:]\n",
    "    return input, output"
   ]
  },
  {
   "cell_type": "code",
   "execution_count": 28,
   "id": "aa749654-d75e-4023-b6ef-0e67748b575e",
   "metadata": {},
   "outputs": [],
   "source": [
    "dataset = sequences.map(create_seq_targets)"
   ]
  },
  {
   "cell_type": "code",
   "execution_count": 30,
   "id": "51436561-4820-458f-9d4b-35163ed722da",
   "metadata": {},
   "outputs": [
    {
     "name": "stdout",
     "output_type": "stream",
     "text": [
      "tf.Tensor(\n",
      "[ 0  1  1  1  1  1  1  1  1  1  1  1  1  1  1  1  1  1  1  1  1  1 12  0\n",
      "  1  1 31 73 70 68  1 61 56 64 73 60 74 75  1 58 73 60 56 75 76 73 60 74\n",
      "  1 78 60  1 59 60 74 64 73 60  1 64 69 58 73 60 56 74 60  8  0  1  1 45\n",
      " 63 56 75  1 75 63 60 73 60 57 80  1 57 60 56 76 75 80  5 74  1 73 70 74\n",
      " 60  1 68 64 62 63 75  1 69 60 77 60 73  1 59 64 60  8  0  1  1 27 76 75], shape=(120,), dtype=int32)\n",
      "\n",
      "                     1\n",
      "  From fairest creatures we desire increase,\n",
      "  That thereby beauty's rose might never die,\n",
      "  But\n",
      "\n",
      "\n",
      "tf.Tensor(\n",
      "[ 1  1  1  1  1  1  1  1  1  1  1  1  1  1  1  1  1  1  1  1  1 12  0  1\n",
      "  1 31 73 70 68  1 61 56 64 73 60 74 75  1 58 73 60 56 75 76 73 60 74  1\n",
      " 78 60  1 59 60 74 64 73 60  1 64 69 58 73 60 56 74 60  8  0  1  1 45 63\n",
      " 56 75  1 75 63 60 73 60 57 80  1 57 60 56 76 75 80  5 74  1 73 70 74 60\n",
      "  1 68 64 62 63 75  1 69 60 77 60 73  1 59 64 60  8  0  1  1 27 76 75  1], shape=(120,), dtype=int32)\n",
      "                     1\n",
      "  From fairest creatures we desire increase,\n",
      "  That thereby beauty's rose might never die,\n",
      "  But \n"
     ]
    }
   ],
   "source": [
    "for input, output in dataset.take(1):\n",
    "    print(input)\n",
    "    print(\"\".join(ind_to_char[input]))\n",
    "    print('\\n')\n",
    "    print(output)\n",
    "    print(\"\".join(ind_to_char[output]))"
   ]
  },
  {
   "cell_type": "code",
   "execution_count": 31,
   "id": "5f11aea0-9460-4fe3-bace-79cf75d702cd",
   "metadata": {},
   "outputs": [],
   "source": [
    "batch_size = 128\n",
    "buffer_size = 10000\n",
    "dataset = dataset.shuffle(buffer_size=buffer_size, seed=101).batch(batch_size=batch_size, drop_remainder=True)"
   ]
  },
  {
   "cell_type": "code",
   "execution_count": 32,
   "id": "e3fd9199-2c4c-467d-94f0-aecfed70bf90",
   "metadata": {},
   "outputs": [],
   "source": [
    "def sparse_cat_entropy(y_true, y_pred):\n",
    "    return tf.keras.losses.sparse_categorical_crossentropy(y_true, y_pred, from_logits=True)"
   ]
  },
  {
   "cell_type": "code",
   "execution_count": 33,
   "id": "1b578ab9-de27-4737-942e-b2c11cabf1dc",
   "metadata": {},
   "outputs": [],
   "source": [
    "layers = tf.keras.layers"
   ]
  },
  {
   "cell_type": "code",
   "execution_count": 34,
   "id": "d7a64525-f11a-4978-848a-4adadbc6d722",
   "metadata": {},
   "outputs": [],
   "source": [
    "vocab_size = len(vocab)\n",
    "embed_dim = 64\n",
    "rnn_neurons = 1026"
   ]
  },
  {
   "cell_type": "code",
   "execution_count": 39,
   "id": "4b3c850b-6126-407f-b6ba-ecb9b0a392ae",
   "metadata": {},
   "outputs": [],
   "source": [
    "def create_model(batch_size, vocab_size, embed_dim, rnn_neurons):\n",
    "    model = tf.keras.models.Sequential([\n",
    "        layers.Embedding(input_dim=vocab_size, output_dim=embed_dim, batch_input_shape=(batch_size, None)),\n",
    "        layers.GRU(units=rnn_neurons, return_sequences=True, stateful=True, recurrent_initializer='glorot_uniform'),\n",
    "        layers.Dense(vocab_size),\n",
    "    ])\n",
    "    model.compile(optimizer='adam', loss=sparse_cat_entropy)\n",
    "    return model"
   ]
  },
  {
   "cell_type": "code",
   "execution_count": 40,
   "id": "b0876edd-d954-4f17-9115-4ae322756d2b",
   "metadata": {},
   "outputs": [],
   "source": [
    "model = create_model(batch_size=batch_size, vocab_size=vocab_size, embed_dim=embed_dim, rnn_neurons=rnn_neurons)"
   ]
  },
  {
   "cell_type": "code",
   "execution_count": 41,
   "id": "62f216fd-40f4-4e98-bfc3-f27469c37bdf",
   "metadata": {},
   "outputs": [
    {
     "name": "stdout",
     "output_type": "stream",
     "text": [
      "Model: \"sequential_1\"\n",
      "_________________________________________________________________\n",
      " Layer (type)                Output Shape              Param #   \n",
      "=================================================================\n",
      " embedding_1 (Embedding)     (128, None, 64)           5376      \n",
      "                                                                 \n",
      " gru_1 (GRU)                 (128, None, 1026)         3361176   \n",
      "                                                                 \n",
      " dense_1 (Dense)             (128, None, 84)           86268     \n",
      "                                                                 \n",
      "=================================================================\n",
      "Total params: 3452820 (13.17 MB)\n",
      "Trainable params: 3452820 (13.17 MB)\n",
      "Non-trainable params: 0 (0.00 Byte)\n",
      "_________________________________________________________________\n"
     ]
    }
   ],
   "source": [
    "model.summary()"
   ]
  },
  {
   "cell_type": "code",
   "execution_count": 53,
   "id": "736b801d-2927-49f8-a071-bd3ae152ec6b",
   "metadata": {},
   "outputs": [
    {
     "name": "stdout",
     "output_type": "stream",
     "text": [
      "tf.Tensor(\n",
      "[[[ 1.1356823e-02 -6.8091792e-03 -1.3093210e-02 ... -4.4259345e-03\n",
      "   -1.0474450e-03  4.3458771e-03]\n",
      "  [ 6.3339248e-03 -2.7564538e-03 -1.1633095e-02 ... -6.6018025e-03\n",
      "   -3.3489789e-04 -9.7391481e-04]\n",
      "  [ 4.0687453e-03 -9.6337888e-03 -1.1449478e-02 ... -2.8603892e-03\n",
      "    6.2706182e-05 -4.7240686e-03]\n",
      "  ...\n",
      "  [ 1.7806839e-03 -9.5131202e-03 -9.3387328e-03 ...  2.4319869e-03\n",
      "    2.9965825e-03 -2.1149984e-03]\n",
      "  [ 2.3705550e-03 -4.8285453e-03 -9.6183782e-03 ... -1.8048999e-03\n",
      "    8.9727418e-04 -3.8662336e-03]\n",
      "  [-1.5498605e-03  1.0779328e-03  7.0592617e-03 ... -7.7892006e-03\n",
      "    7.2490395e-04  2.3761154e-03]]\n",
      "\n",
      " [[ 4.8678638e-03  1.7698146e-03 -7.0908163e-03 ...  1.6764748e-03\n",
      "    1.7887385e-03  2.0542056e-03]\n",
      "  [ 6.3924971e-03 -1.5296359e-03 -1.3693569e-02 ...  3.9296802e-03\n",
      "    4.3917629e-03  9.6447775e-03]\n",
      "  [ 3.5645205e-03 -2.3485383e-03 -1.0698269e-02 ... -1.0777169e-03\n",
      "    2.0696446e-03  1.6092276e-03]\n",
      "  ...\n",
      "  [ 1.3649311e-03  8.9955376e-04 -2.7852810e-03 ...  2.0196538e-03\n",
      "    2.8080557e-04 -2.7144318e-03]\n",
      "  [ 1.9375242e-03  2.7801916e-03 -1.8557895e-03 ... -9.0503442e-04\n",
      "    3.7956652e-03 -3.2664242e-04]\n",
      "  [-3.0866200e-03  3.9449558e-03  1.1701810e-02 ... -8.0836518e-03\n",
      "    1.1899080e-03  3.6879042e-03]]\n",
      "\n",
      " [[ 2.8431243e-03 -1.0658579e-02 -8.0618793e-03 ... -3.2296753e-04\n",
      "   -9.7163388e-04 -5.4844311e-03]\n",
      "  [ 1.7888114e-03 -5.9993765e-03 -1.1595394e-02 ...  1.8410910e-03\n",
      "    2.5085756e-03  4.7049485e-03]\n",
      "  [ 5.6296862e-03 -6.4994348e-03 -1.4321085e-02 ... -8.1444357e-04\n",
      "   -2.5490788e-04  8.0463607e-03]\n",
      "  ...\n",
      "  [-5.0091636e-03 -1.3759683e-03 -6.9301655e-03 ... -4.7487798e-04\n",
      "    1.2310818e-05  6.3436822e-04]\n",
      "  [-6.1477590e-03 -4.2644585e-04 -7.2360528e-03 ... -3.6604865e-03\n",
      "   -3.4029309e-03  5.6938017e-03]\n",
      "  [-2.4620662e-03 -1.4565892e-03 -7.7319155e-03 ... -5.7347869e-03\n",
      "   -8.9604669e-04 -3.5855698e-04]]\n",
      "\n",
      " ...\n",
      "\n",
      " [[ 6.5190918e-03 -4.8709246e-03 -1.6396273e-02 ...  6.0828961e-03\n",
      "    4.4482797e-03  1.2708132e-02]\n",
      "  [ 7.7022571e-04 -2.6793000e-03 -8.3966870e-03 ...  4.5530880e-03\n",
      "    1.7245524e-03  4.0816967e-03]\n",
      "  [ 4.3868087e-04  3.9618579e-04 -3.9669545e-03 ...  1.3310283e-03\n",
      "    4.8029572e-03  3.0924766e-03]\n",
      "  ...\n",
      "  [ 4.8416527e-03 -3.6076568e-03 -1.2208818e-02 ... -5.0313128e-03\n",
      "   -2.7368485e-04 -1.3606531e-03]\n",
      "  [ 8.6840354e-03 -5.7938672e-03 -1.4405425e-02 ... -5.6506074e-03\n",
      "   -1.5237383e-03  5.2879234e-03]\n",
      "  [ 1.6150655e-02 -5.8143819e-03 -9.4345165e-03 ... -1.3806430e-03\n",
      "   -1.3921505e-03 -5.3178156e-03]]\n",
      "\n",
      " [[ 8.6316634e-03 -1.6967865e-04 -7.6543088e-03 ... -8.7148370e-04\n",
      "   -3.1412893e-04 -2.6335507e-03]\n",
      "  [ 7.0677418e-03 -5.6167534e-03 -9.7681098e-03 ...  3.0695908e-03\n",
      "    2.1168161e-03 -1.1491589e-03]\n",
      "  [ 4.7601815e-03 -4.7513167e-03 -1.0037106e-02 ... -2.1769912e-03\n",
      "    1.1583774e-03 -4.2576543e-03]\n",
      "  ...\n",
      "  [ 5.3972320e-04 -2.2248807e-03 -3.9313561e-03 ... -4.6963254e-03\n",
      "    1.3248663e-03 -1.0680099e-04]\n",
      "  [ 1.8054995e-03 -2.6471352e-03 -1.7415499e-05 ... -2.7754081e-03\n",
      "   -3.1657983e-04  3.8429608e-03]\n",
      "  [ 2.2664377e-03 -1.6192859e-03 -2.9988207e-03 ... -4.5596985e-03\n",
      "   -7.3914544e-04 -2.2240188e-03]]\n",
      "\n",
      " [[-2.7415727e-03 -1.5476462e-03 -7.2748465e-03 ... -2.2303436e-03\n",
      "   -3.5754323e-03  5.7363370e-03]\n",
      "  [-8.7624993e-03  7.8377081e-04 -5.9318659e-03 ... -5.6565604e-03\n",
      "   -3.9861724e-03  8.6783841e-03]\n",
      "  [ 1.5351734e-03 -1.2357458e-03 -1.2834143e-02 ...  1.7706631e-04\n",
      "    2.7288098e-03  1.3143874e-02]\n",
      "  ...\n",
      "  [-2.3899893e-03 -2.3649947e-03 -7.2425003e-03 ...  8.5236528e-04\n",
      "    1.1208736e-03  3.1246506e-03]\n",
      "  [-3.7601497e-03 -2.0066784e-03 -5.8877571e-03 ...  2.7817718e-03\n",
      "    6.6744848e-03  9.4471208e-05]\n",
      "  [-1.8690992e-03 -1.1776658e-03 -6.8844003e-03 ... -2.9861203e-03\n",
      "    1.9164959e-03 -2.6223864e-03]]], shape=(128, 120, 84), dtype=float32)\n"
     ]
    }
   ],
   "source": [
    "for input, output in dataset.take(1):\n",
    "    ex_pred = model(input)\n",
    "    print(ex_pred)"
   ]
  },
  {
   "cell_type": "code",
   "execution_count": 54,
   "id": "7c229e6f-8cd5-4822-8c63-acb18c802064",
   "metadata": {},
   "outputs": [],
   "source": [
    "sample = tf.random.categorical(ex_pred[0], num_samples=1, seed=101)"
   ]
  },
  {
   "cell_type": "code",
   "execution_count": 55,
   "id": "3377e2c2-0570-44ac-ac47-1f3523a27423",
   "metadata": {},
   "outputs": [
    {
     "data": {
      "text/plain": [
       "<tf.Tensor: shape=(120, 1), dtype=int64, numpy=\n",
       "array([[ 1],\n",
       "       [40],\n",
       "       [78],\n",
       "       [78],\n",
       "       [33],\n",
       "       [56],\n",
       "       [45],\n",
       "       [25],\n",
       "       [81],\n",
       "       [29],\n",
       "       [ 2],\n",
       "       [45],\n",
       "       [34],\n",
       "       [ 3],\n",
       "       [26],\n",
       "       [28],\n",
       "       [ 0],\n",
       "       [37],\n",
       "       [72],\n",
       "       [59],\n",
       "       [12],\n",
       "       [50],\n",
       "       [15],\n",
       "       [16],\n",
       "       [42],\n",
       "       [38],\n",
       "       [ 6],\n",
       "       [67],\n",
       "       [ 9],\n",
       "       [54],\n",
       "       [58],\n",
       "       [65],\n",
       "       [20],\n",
       "       [45],\n",
       "       [56],\n",
       "       [65],\n",
       "       [16],\n",
       "       [17],\n",
       "       [83],\n",
       "       [67],\n",
       "       [75],\n",
       "       [ 6],\n",
       "       [ 2],\n",
       "       [55],\n",
       "       [ 6],\n",
       "       [51],\n",
       "       [ 8],\n",
       "       [72],\n",
       "       [12],\n",
       "       [42],\n",
       "       [36],\n",
       "       [57],\n",
       "       [63],\n",
       "       [ 0],\n",
       "       [23],\n",
       "       [33],\n",
       "       [12],\n",
       "       [44],\n",
       "       [80],\n",
       "       [19],\n",
       "       [40],\n",
       "       [ 7],\n",
       "       [67],\n",
       "       [47],\n",
       "       [49],\n",
       "       [15],\n",
       "       [25],\n",
       "       [14],\n",
       "       [64],\n",
       "       [53],\n",
       "       [47],\n",
       "       [ 8],\n",
       "       [79],\n",
       "       [82],\n",
       "       [57],\n",
       "       [22],\n",
       "       [71],\n",
       "       [37],\n",
       "       [ 7],\n",
       "       [ 4],\n",
       "       [52],\n",
       "       [33],\n",
       "       [73],\n",
       "       [ 4],\n",
       "       [14],\n",
       "       [32],\n",
       "       [ 7],\n",
       "       [81],\n",
       "       [62],\n",
       "       [47],\n",
       "       [32],\n",
       "       [52],\n",
       "       [35],\n",
       "       [21],\n",
       "       [20],\n",
       "       [ 2],\n",
       "       [13],\n",
       "       [50],\n",
       "       [14],\n",
       "       [ 1],\n",
       "       [25],\n",
       "       [ 5],\n",
       "       [53],\n",
       "       [81],\n",
       "       [65],\n",
       "       [ 9],\n",
       "       [83],\n",
       "       [34],\n",
       "       [56],\n",
       "       [39],\n",
       "       [67],\n",
       "       [51],\n",
       "       [38],\n",
       "       [19],\n",
       "       [45],\n",
       "       [ 9],\n",
       "       [70],\n",
       "       [ 2],\n",
       "       [26],\n",
       "       [65]], dtype=int64)>"
      ]
     },
     "execution_count": 55,
     "metadata": {},
     "output_type": "execute_result"
    }
   ],
   "source": [
    "sample"
   ]
  },
  {
   "cell_type": "code",
   "execution_count": 56,
   "id": "9c43def9-c95f-4def-8eee-8c86bf717a03",
   "metadata": {},
   "outputs": [],
   "source": [
    "sample = tf.squeeze(sample, axis=-1).numpy()"
   ]
  },
  {
   "cell_type": "code",
   "execution_count": 57,
   "id": "6197fe9d-7cc3-43f4-bf86-ab1ae45ba7c4",
   "metadata": {},
   "outputs": [
    {
     "data": {
      "text/plain": [
       "array([ 1, 40, 78, 78, 33, 56, 45, 25, 81, 29,  2, 45, 34,  3, 26, 28,  0,\n",
       "       37, 72, 59, 12, 50, 15, 16, 42, 38,  6, 67,  9, 54, 58, 65, 20, 45,\n",
       "       56, 65, 16, 17, 83, 67, 75,  6,  2, 55,  6, 51,  8, 72, 12, 42, 36,\n",
       "       57, 63,  0, 23, 33, 12, 44, 80, 19, 40,  7, 67, 47, 49, 15, 25, 14,\n",
       "       64, 53, 47,  8, 79, 82, 57, 22, 71, 37,  7,  4, 52, 33, 73,  4, 14,\n",
       "       32,  7, 81, 62, 47, 32, 52, 35, 21, 20,  2, 13, 50, 14,  1, 25,  5,\n",
       "       53, 81, 65,  9, 83, 34, 56, 39, 67, 51, 38, 19, 45,  9, 70,  2, 26,\n",
       "       65], dtype=int64)"
      ]
     },
     "execution_count": 57,
     "metadata": {},
     "output_type": "execute_result"
    }
   ],
   "source": [
    "sample"
   ]
  },
  {
   "cell_type": "code",
   "execution_count": 59,
   "id": "1ce52776-e8df-42d7-944d-322316ddeff2",
   "metadata": {},
   "outputs": [
    {
     "data": {
      "text/plain": [
       "' OwwHaT?zD!TI\"AC\\nLqd1Y45QM(l-_cj9Taj56}lt(!`(Z,q1QKbh\\n<H1Sy8O)lVX4?3i]V,x|b;pL)&[Hr&3G)zgVG[J:9!2Y3 ?\\']zj-}IaNlZM8T-o!Aj'"
      ]
     },
     "execution_count": 59,
     "metadata": {},
     "output_type": "execute_result"
    }
   ],
   "source": [
    "''.join(ind_to_char[sample])"
   ]
  },
  {
   "cell_type": "code",
   "execution_count": null,
   "id": "79cdf84f-02c3-457c-9cf9-ab44e3f6185f",
   "metadata": {},
   "outputs": [],
   "source": []
  }
 ],
 "metadata": {
  "kernelspec": {
   "display_name": "Python 3 (ipykernel)",
   "language": "python",
   "name": "python3"
  },
  "language_info": {
   "codemirror_mode": {
    "name": "ipython",
    "version": 3
   },
   "file_extension": ".py",
   "mimetype": "text/x-python",
   "name": "python",
   "nbconvert_exporter": "python",
   "pygments_lexer": "ipython3",
   "version": "3.10.12"
  }
 },
 "nbformat": 4,
 "nbformat_minor": 5
}
